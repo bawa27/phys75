{
 "cells": [
  {
   "cell_type": "markdown",
   "id": "e09f6c27",
   "metadata": {
    "tags": []
   },
   "source": [
    "# Kinematics of the Bit\n",
    "**A companion notebook to \"Graduate Quantum Information Science\"**"
   ]
  },
  {
   "cell_type": "code",
   "execution_count": null,
   "id": "549d431b",
   "metadata": {
    "tags": []
   },
   "outputs": [
    {
     "ename": "",
     "evalue": "",
     "output_type": "error",
     "traceback": [
      "\u001b[1;31mRunning cells with 'phys75-env (Python 3.9.21)' requires the ipykernel package.\n",
      "\u001b[1;31m<a href='command:jupyter.createPythonEnvAndSelectController'>Create a Python Environment</a> with the required packages."
     ]
    }
   ],
   "source": [
    "import doctest\n",
    "\n",
    "import  xzcbnumpy as np\n",
    "from scipy.linalg import expm\n",
    "\n",
    "# magic word for producing visualizations in notebook\n",
    "%matplotlib inline\n",
    "\n",
    "\n",
    "## \n",
    "# Originally for \n",
    "# Physics 116: Quantum Information Science\n",
    "# Dartmouth College, Spring 2022\n",
    "# Instructor: James Whitfield (james.d.whitfield@dartmouth.edu) \n",
    "# Teaching Assistant: AJ Cressman (anthony.j.cressman.gr@dartmouth.edu)\n",
    "\n",
    "# JDWhitfield 2024"
   ]
  },
  {
   "cell_type": "markdown",
   "id": "159de09f-f3fa-48cd-8946-1b3092c74860",
   "metadata": {},
   "source": [
    "This notebook is meant to illustrate the probability-first approach to quantum used in \"Graduate Quantum Information Science\". Specifically, we are concerned with the kinematics of probability density vectors for the two outcome situation. The notation and examples largely follow the associated appendix on the kinematics of the bit.\n",
    "\n",
    "We consider states first and continue on to their transformations. \n",
    "\n",
    "### Table of contents\n",
    "* [Probability density vectors for bits](#states)\n",
    "* [Kinematially allowed transformations](#transforms)"
   ]
  },
  {
   "cell_type": "markdown",
   "id": "d6cba1a5-2380-4bd0-afcb-657758c70cc1",
   "metadata": {
    "jp-MarkdownHeadingCollapsed": true,
    "tags": []
   },
   "source": [
    "# Probability density vectors for bits <a class=\"anchor\" id=\"states\"></a>"
   ]
  },
  {
   "cell_type": "code",
   "execution_count": 2,
   "id": "3a68db9e",
   "metadata": {},
   "outputs": [],
   "source": [
    "def is_probability_density_vector(v):\n",
    "    \"\"\"Checks if a given array represents a probability density vector.\n",
    "\n",
    "    Probability density vectors must be one-dimensional (vectors), with real, non-negative entries that sum to 1.\n",
    "\n",
    "    Args:\n",
    "        v ([float]): A one-dimensional array of numbers.\n",
    "\n",
    "    Returns:\n",
    "        (bool): True if the array represents a probability density vector, False otherwise\n",
    "\n",
    "    Examples of probability density vectors:\n",
    "\n",
    "    >>> is_probability_density_vector([1, 0])\n",
    "    True\n",
    "    >>> is_probability_density_vector([0.25, 0.25, 0.25, 0.25])\n",
    "    True\n",
    "    >>> is_probability_density_vector(np.array([1, 0]))\n",
    "    True\n",
    "    >>> is_probability_density_vector(np.matrix([1, 0]))\n",
    "    True\n",
    "    >>> is_probability_density_vector([[1], [0]])\n",
    "    True\n",
    "    >>> is_probability_density_vector(np.matrix([[0], [1]]))\n",
    "    True\n",
    "    >>> is_probability_density_vector([0.5, 0.5])\n",
    "    True\n",
    "    >>> is_probability_density_vector([[1, 0]])\n",
    "    True\n",
    "    >>> is_probability_density_vector([1 + 0j, 0])\n",
    "    True\n",
    "\n",
    "    Examples of arrays that are not probability density vectors:\n",
    "\n",
    "    Not one-dimensional array\n",
    "    >>> is_probability_density_vector([[1, 0], [0, 0]])\n",
    "    False\n",
    "\n",
    "    Not all real\n",
    "    >>> is_probability_density_vector([1 + 1j, 0])\n",
    "    False\n",
    "\n",
    "\n",
    "    Not all positive\n",
    "    >>> is_probability_density_vector([1.1, -0.1])\n",
    "    False\n",
    "    >>> is_probability_density_vector([-1 + 0j, 0])\n",
    "    False\n",
    "\n",
    "    Not normal\n",
    "    >>> is_probability_density_vector([1, 1])\n",
    "    False\n",
    "    \"\"\"\n",
    "    # treat v as a numpy array, collapse \"empty\" dimensions\n",
    "    v = np.squeeze(np.array(v))\n",
    "    # check if one-dimensional\n",
    "    if v.ndim != 1:\n",
    "        return False\n",
    "    # check if all real\n",
    "    if not np.isreal(v).all():\n",
    "        return False\n",
    "    # check if all positive\n",
    "    v = np.real(v)\n",
    "    if (v < 0).any():\n",
    "        return False\n",
    "    # check normalization\n",
    "    if not np.isclose(np.sum(v), 1):\n",
    "        return False\n",
    "    return True\n",
    "\n",
    "\n",
    "# uncomment to run tests:\n",
    "# doctest.testmod()"
   ]
  },
  {
   "cell_type": "code",
   "execution_count": 3,
   "id": "2f44c515",
   "metadata": {},
   "outputs": [],
   "source": [
    "# Bernoulli parameters (adjust as needed)\n",
    "p = 0.75  # probability [0, 1]\n",
    "assert np.isreal(p) and p >= 0 and p <= 1"
   ]
  },
  {
   "cell_type": "code",
   "execution_count": 4,
   "id": "3c686744",
   "metadata": {},
   "outputs": [
    {
     "name": "stdout",
     "output_type": "stream",
     "text": [
      "vecp: \n",
      "[[0.8]\n",
      " [0.2]]\n"
     ]
    }
   ],
   "source": [
    "# Turn our probability p (set at the top) into a probability density vector\n",
    "vecp = np.matrix([[p], [1 - p]])\n",
    "print(f\"vecp: \\n{vecp}\")\n",
    "# vecp and its transpose should both be probability density vectors\n",
    "assert is_probability_density_vector(vecp)\n",
    "assert is_probability_density_vector(vecp.T)\n",
    "\n",
    "# bias parameter\n",
    "b = p - 1 / 2"
   ]
  },
  {
   "cell_type": "code",
   "execution_count": 5,
   "id": "26786d30",
   "metadata": {},
   "outputs": [],
   "source": [
    "# Useful matrices to represent change of basis of 2D probability vectors\n",
    "I = np.eye(2)  # the identity\n",
    "P12 = np.matrix([[0, 1], [1, 0]])  # permutation (1 2) -- change of basis for a bit"
   ]
  },
  {
   "cell_type": "markdown",
   "id": "d1f1525a-e813-44fc-a653-498ab92cb03b",
   "metadata": {},
   "source": [
    "# State transformations <a class=\"anchor\" id=\"transforms\"></a>"
   ]
  },
  {
   "cell_type": "markdown",
   "id": "1fdb40e4-67f8-4834-8624-498707daca9f",
   "metadata": {
    "jp-MarkdownHeadingCollapsed": true,
    "tags": []
   },
   "source": [
    "## Change of basis for a bit"
   ]
  },
  {
   "cell_type": "code",
   "execution_count": 6,
   "id": "3006e818",
   "metadata": {},
   "outputs": [],
   "source": [
    "# bistochastic change of basis for a bit\n",
    "\n",
    "# NOTE: the \": float\" is a type hint.\n",
    "# Using them is *not* necessary, but they can help document what your function does\n",
    "# (and check that what you've done is correct!).\n",
    "def change_of_basis_matrix_2d(w: float):\n",
    "    \"\"\"Given a weight w, returns a change of basis matrix for 2D probability vectors\n",
    "\n",
    "    Args:\n",
    "        w (float): The weight given to permutation P12 (in the range [0, 1])\n",
    "\n",
    "    Returns:\n",
    "        M (np.matrix): A 2x2 matrix representing a change of basis\n",
    "\n",
    "    Raises:\n",
    "        ValueError: if the weight w is not real and in the range [0, 1]\n",
    "\n",
    "    Examples:\n",
    "    >>> change_of_basis_matrix_2d(0)\n",
    "    matrix([[1., 0.],\n",
    "            [0., 1.]])\n",
    "\n",
    "    >>> change_of_basis_matrix_2d(1)\n",
    "    matrix([[0., 1.],\n",
    "            [1., 0.]])\n",
    "\n",
    "    >>> change_of_basis_matrix_2d(0.5)\n",
    "    matrix([[0.5, 0.5],\n",
    "            [0.5, 0.5]])\n",
    "\n",
    "    >>> change_of_basis_matrix_2d(0+0j)\n",
    "    matrix([[1., 0.],\n",
    "            [0., 1.]])\n",
    "\n",
    "    >>> change_of_basis_matrix_2d(-1)\n",
    "    Traceback (most recent call last):\n",
    "    ...\n",
    "    ValueError: w must be between 0 and 1 (inclusive), given: -1\n",
    "\n",
    "    >>> change_of_basis_matrix_2d(0+1j)\n",
    "    Traceback (most recent call last):\n",
    "    ...\n",
    "    ValueError: w must be real, given: 1j\n",
    "\n",
    "    \"\"\"\n",
    "    if not np.isreal(w):\n",
    "        raise ValueError(f\"w must be real, given: {w}\")\n",
    "    w = np.real(w)  # remove \"+0j\" imaginary component\n",
    "    if w < 0 or w > 1:\n",
    "        raise ValueError(f\"w must be between 0 and 1 (inclusive), given: {w}\")\n",
    "    M = w * P12 + (1 - w) * I\n",
    "    return M\n",
    "\n",
    "\n",
    "# uncomment to run tests:\n",
    "# doctest.testmod()"
   ]
  },
  {
   "cell_type": "code",
   "execution_count": 7,
   "id": "d1b430de",
   "metadata": {},
   "outputs": [],
   "source": [
    "assert is_probability_density_vector(vecp)\n",
    "# NOTE: the \"@\" symbol is how numpy expresses matrix multiplication\n",
    "assert is_probability_density_vector(change_of_basis_matrix_2d(0) @ vecp)\n",
    "assert is_probability_density_vector(change_of_basis_matrix_2d(1) @ vecp)\n",
    "assert is_probability_density_vector(change_of_basis_matrix_2d(0.5) @ vecp)"
   ]
  },
  {
   "cell_type": "markdown",
   "id": "7eb51e50-8865-4ba2-a17c-2f0fe06c4bd9",
   "metadata": {
    "jp-MarkdownHeadingCollapsed": true,
    "tags": []
   },
   "source": [
    "## Markov matrices for probability state transformations"
   ]
  },
  {
   "cell_type": "code",
   "execution_count": 8,
   "id": "07e391dd",
   "metadata": {},
   "outputs": [],
   "source": [
    "# general stochastic transformations of a bit\n",
    "def general_markov_transform_2d(w1: float, w2: float):\n",
    "    \"\"\"Given two weights w1 and w2, return the general (2D) Markov transform\n",
    "\n",
    "    Args:\n",
    "        w1 (float): The weight of no permutation (in the range [0, 1])\n",
    "        w2 (float): The weight of no permutation (in the range [0, 1])\n",
    "\n",
    "    Returns:\n",
    "        M (np.matrix): A 2x2 matrix representing a general Markov transform\n",
    "\n",
    "    Raises:\n",
    "        ValueError: if the weights (w1 and w2) are not both real and in the range [0, 1]\n",
    "\n",
    "    Examples:\n",
    "\n",
    "    >>> general_markov_transform_2d(0, 0)\n",
    "    matrix([[0., 0.],\n",
    "            [1., 1.]])\n",
    "\n",
    "    >>> general_markov_transform_2d(0, 1)\n",
    "    matrix([[0., 1.],\n",
    "            [1., 0.]])\n",
    "\n",
    "    >>> general_markov_transform_2d(0.5, 0.5)\n",
    "    matrix([[0.5, 0.5],\n",
    "            [0.5, 0.5]])\n",
    "\n",
    "    Failing examples:\n",
    "\n",
    "    >>> general_markov_transform_2d(0+1j, 0)\n",
    "    Traceback (most recent call last):\n",
    "    ...\n",
    "    ValueError: w1 must be real, given: 1j\n",
    "\n",
    "    >>> general_markov_transform_2d(0, 0+1j)\n",
    "    Traceback (most recent call last):\n",
    "    ...\n",
    "    ValueError: w2 must be real, given: 1j\n",
    "\n",
    "    >>> general_markov_transform_2d(2, 0)\n",
    "    Traceback (most recent call last):\n",
    "    ...\n",
    "    ValueError: w1 must be between 0 and 1 (inclusive), given: 2\n",
    "\n",
    "    >>> general_markov_transform_2d(0, 2)\n",
    "    Traceback (most recent call last):\n",
    "    ...\n",
    "    ValueError: w2 must be between 0 and 1 (inclusive), given: 2\n",
    "    \"\"\"\n",
    "    # w1 checks\n",
    "    if not np.isreal(w1):\n",
    "        raise ValueError(f\"w1 must be real, given: {w1}\")\n",
    "    w1 = np.real(w1)  # remove \"+0j\" imaginary component\n",
    "    if w1 < 0 or w1 > 1:\n",
    "        raise ValueError(f\"w1 must be between 0 and 1 (inclusive), given: {w1}\")\n",
    "    # w2 checks\n",
    "    if not np.isreal(w2):\n",
    "        raise ValueError(f\"w2 must be real, given: {w2}\")\n",
    "    w2 = np.real(w2)  # remove \"+0j\" imaginary component\n",
    "    if w2 < 0 or w2 > 1:\n",
    "        raise ValueError(f\"w2 must be between 0 and 1 (inclusive), given: {w2}\")\n",
    "\n",
    "    M = np.matrix([[w1, w2], [1.0 - w1, 1.0 - w2]])\n",
    "    return M\n",
    "\n",
    "\n",
    "# uncomment to run tests:\n",
    "# doctest.testmod()"
   ]
  },
  {
   "cell_type": "code",
   "execution_count": 9,
   "id": "624eb0ae",
   "metadata": {},
   "outputs": [],
   "source": [
    "assert is_probability_density_vector(general_markov_transform_2d(0, 0) @ vecp)\n",
    "assert is_probability_density_vector(general_markov_transform_2d(1, 0) @ vecp)\n",
    "assert is_probability_density_vector(general_markov_transform_2d(0, 1) @ vecp)\n",
    "assert is_probability_density_vector(general_markov_transform_2d(0.5, 0.5) @ vecp)"
   ]
  },
  {
   "cell_type": "markdown",
   "id": "f4f7367f-63e3-4821-8d86-dafaac668721",
   "metadata": {
    "tags": []
   },
   "source": [
    "## Continuous time transformations"
   ]
  },
  {
   "cell_type": "code",
   "execution_count": 11,
   "id": "d2ca1b61",
   "metadata": {},
   "outputs": [
    {
     "name": "stdout",
     "output_type": "stream",
     "text": [
      "L generates changes in time: \n",
      "[[-0.69415752  0.20008196]\n",
      " [ 0.69415752 -0.20008196]]\n",
      "\n",
      "vecp is a probability density vector\n",
      "True\n",
      "\n",
      "L generates changes in time on the right\n",
      "True\n",
      "\n",
      "But not on the left\n",
      "False\n",
      "\n",
      "Its transpose doesn't work on the right\n",
      "False\n",
      "\n",
      "But it does work on the left\n",
      "True\n"
     ]
    }
   ],
   "source": [
    "# M is a probability transition matrix\n",
    "# while W is a rate matrix i.e. W = M/dt\n",
    "\n",
    "W = np.abs(np.random.randn(2, 2))  # Wij nonzero, no other assumptions\n",
    "D = np.diag(np.sum(W, axis=0))  # sum along the row, then turn into diagonal matrix\n",
    "\n",
    "# Here axis=0 or axis=1 will change the stochastic matrix from left to right\n",
    "# Feel free to test this out\n",
    "\n",
    "L = W - D\n",
    "\n",
    "print(f\"L generates changes in time: \\n{L}\")\n",
    "\n",
    "# Students: Play with this value! Does it have to be positive?\n",
    "t = 1.0\n",
    "\n",
    "print(f\"\\nvecp is a probability density vector\")\n",
    "print(is_probability_density_vector(vecp))\n",
    "\n",
    "print(f\"\\nL generates changes in time on the right\")\n",
    "print(is_probability_density_vector(expm(L * t) @ vecp))\n",
    "\n",
    "print(f\"\\nBut not on the left\")\n",
    "print(is_probability_density_vector(vecp.T * expm(L * t)))\n",
    "\n",
    "print(f\"\\nIts transpose doesn't work on the right\")\n",
    "print(is_probability_density_vector(expm(L.T * t) @ vecp))\n",
    "\n",
    "print(f\"\\nBut it does work on the left\")\n",
    "print(is_probability_density_vector((vecp.T) @ expm(L.T * t)))"
   ]
  },
  {
   "cell_type": "code",
   "execution_count": 2,
   "id": "be880395",
   "metadata": {},
   "outputs": [],
   "source": [
    "# AJ Cressman 2022\n",
    "# JDWhitfield 2022\n",
    "# JDWhitfield 2024"
   ]
  }
 ],
 "metadata": {
  "kernelspec": {
   "display_name": "phys75-env",
   "language": "python",
   "name": "python3"
  },
  "language_info": {
   "codemirror_mode": {
    "name": "ipython",
    "version": 3
   },
   "file_extension": ".py",
   "mimetype": "text/x-python",
   "name": "python",
   "nbconvert_exporter": "python",
   "pygments_lexer": "ipython3",
   "version": "3.9.21"
  }
 },
 "nbformat": 4,
 "nbformat_minor": 5
}
