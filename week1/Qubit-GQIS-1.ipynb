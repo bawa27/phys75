{
 "cells": [
  {
   "cell_type": "markdown",
   "id": "e09f6c27",
   "metadata": {
    "id": "e09f6c27",
    "tags": []
   },
   "source": [
    "# Kinematics of the Qubit\n",
    "**A companion notebook to \"Graduate Quantum Information Science\"**"
   ]
  },
  {
   "cell_type": "code",
   "execution_count": null,
   "id": "549d431b",
   "metadata": {
    "id": "549d431b",
    "tags": []
   },
   "outputs": [],
   "source": [
    "import doctest\n",
    "\n",
    "import numpy as np\n",
    "from braket.circuits import Circuit, Noise, gates\n",
    "#from braket.devices import LocalSimulator\n",
    "from scipy.linalg import expm\n",
    "\n",
    "# magic word for producing visualizations in notebook\n",
    "%matplotlib inline"
   ]
  },
  {
   "cell_type": "markdown",
   "id": "65dcff57-1284-4add-ada9-74181d03b4b3",
   "metadata": {},
   "source": [
    "This notebook is meant to illustrate the probability-first approach to quantum used in \"Graduate Quantum Information Science\". Here we are concerned with the kinematics of probability density matrices in the two outcome situation. The notation and examples largely follow the associated appendix concerning the kinematics of the qubit.\n",
    "\n",
    "We consider states followed by their transformations. \n",
    "\n",
    "### Table of contents\n",
    "* [Probability density matrices for qubits](#states)\n",
    "* [Kinematially allowed transformations](#transforms)"
   ]
  },
  {
   "cell_type": "markdown",
   "id": "e3aa273a-cb48-495c-8c27-a04372428f5e",
   "metadata": {
    "jp-MarkdownHeadingCollapsed": true,
    "tags": []
   },
   "source": [
    "# Probability density matrices for qubits<a class=\"anchor\" id=\"states\"></a>"
   ]
  },
  {
   "cell_type": "code",
   "execution_count": 5,
   "id": "3a68db9e",
   "metadata": {
    "id": "3a68db9e"
   },
   "outputs": [
    {
     "data": {
      "text/plain": [
       "TestResults(failed=0, attempted=14)"
      ]
     },
     "execution_count": 5,
     "metadata": {},
     "output_type": "execute_result"
    }
   ],
   "source": [
    "def is_probability_density_matrix(R):\n",
    "    \"\"\"Checks if a given array represents a probability density matrix.\n",
    "\n",
    "    Probability density matrices must be two-dimensional (matrices), with trace\n",
    "    one and each eigenvalue both real and greater than or equal to zero.\n",
    "\n",
    "    Args:\n",
    "        R ([float]): A two-dimensional array of numbers.\n",
    "\n",
    "    Returns:\n",
    "        (bool): True if the array represents a probability density vector, False otherwise\n",
    "\n",
    "    Examples of probability density vectors:\n",
    "\n",
    "    >>> is_probability_density_matrix([[1, 0],[0, 0]])\n",
    "    True\n",
    "    >>> is_probability_density_matrix([[0.5, 0.5], [0.5, 0.5]])\n",
    "    True\n",
    "    >>> is_probability_density_matrix(np.array([[1, 0],[0, 0]]))\n",
    "    True\n",
    "    >>> is_probability_density_matrix(np.matrix([[1, 0],[0, 0]]))\n",
    "    True\n",
    "    >>> is_probability_density_matrix([[.5, -.5], [-.5, .5]])\n",
    "    True\n",
    "    >>> is_probability_density_matrix(np.matrix([[0, 0], [0, 1]]))\n",
    "    True\n",
    "    >>> is_probability_density_matrix([[0.5, 0],[0, 0.5]])\n",
    "    True\n",
    "    >>> is_probability_density_matrix([[0, 0], [0, 1]])\n",
    "    True\n",
    "    >>> is_probability_density_matrix([[1 + 0j, 0],[0,0]] )\n",
    "    True\n",
    "\n",
    "    Examples of arrays that are not a probability density matrix:\n",
    "\n",
    "    Not two-dimensional array\n",
    "    >>> is_probability_density_matrix([1, 0])\n",
    "    False\n",
    "\n",
    "    Not all real eigenvalues\n",
    "    >>> is_probability_density_matrix(np.diag([1 + 1j, 0]))\n",
    "    False\n",
    "\n",
    "\n",
    "    Not all positive eigenvalues\n",
    "    >>> is_probability_density_matrix(np.diag([1.1, -0.1]))\n",
    "    False\n",
    "    >>> is_probability_density_matrix(np.diag([-1 + 0j, 0]))\n",
    "    False\n",
    "\n",
    "    Not normalized\n",
    "    >>> is_probability_density_matrix(np.diag([1, 1]))\n",
    "    False\n",
    "    \"\"\"\n",
    "    # treat m as a numpy matrix, recast input as np.matrix\n",
    "    R = np.matrix(R)\n",
    "\n",
    "    # check if one-dimensional\n",
    "    if not R.shape[0]==R.shape[1]:\n",
    "        return False\n",
    "\n",
    "\n",
    "    v = np.linalg.eigvals(R)\n",
    "\n",
    "    #round off to 14 digits of accuracy\n",
    "\n",
    "    v = np.round(v*1e14)/1e14\n",
    "\n",
    "    ## import kinematics_of_prob\n",
    "    ## return kinematics_of_prob.is_probability_density_vector(v)\n",
    "\n",
    "    # check if all real\n",
    "    if not np.isreal(v).all():\n",
    "        return False\n",
    "    # check if all positive\n",
    "    v = np.real(v)\n",
    "    if (v < -1e-16).any():\n",
    "        return False\n",
    "    # check normalization\n",
    "    if not np.isclose(np.sum(v), 1):\n",
    "        return False\n",
    "    return True\n",
    "\n",
    "\n",
    "#uncomment to run tests:\n",
    "doctest.testmod()"
   ]
  },
  {
   "cell_type": "code",
   "execution_count": 6,
   "id": "YwHf_xvtUw81",
   "metadata": {
    "id": "YwHf_xvtUw81"
   },
   "outputs": [],
   "source": [
    "Id= np.matrix([[1, 0 ],[ 0, 1]])\n",
    "X = np.matrix([[0, 1 ],[ 1, 0]])\n",
    "Y = np.matrix([[0,-1j],[1j, 0]])\n",
    "Z = np.matrix([[1, 0 ],[ 0,-1]])"
   ]
  },
  {
   "cell_type": "code",
   "execution_count": 7,
   "id": "934113b9-4037-4766-8f42-8c3bac95d125",
   "metadata": {
    "colab": {
     "base_uri": "https://localhost:8080/"
    },
    "id": "Ho5Tp3R7WPSc",
    "outputId": "4953ff9d-94aa-48a0-924a-1628639ae9fb",
    "tags": []
   },
   "outputs": [],
   "source": [
    "def quantum_pdm_from_r(rx,ry,rz):\n",
    "    # construct a probability density matrix from an input 3-vector\n",
    "    assert ((rx*rx) + (ry*ry) + (rz*rz)) < 0.5+1e-9\n",
    "    R = 0.5 * Id + ( rx * X + ry * Y + rz * Z )\n",
    "    return R"
   ]
  },
  {
   "cell_type": "code",
   "execution_count": 8,
   "id": "2610da99-03d9-4a16-9667-3c74d7c70563",
   "metadata": {
    "tags": []
   },
   "outputs": [
    {
     "ename": "AssertionError",
     "evalue": "",
     "output_type": "error",
     "traceback": [
      "\u001b[31m---------------------------------------------------------------------------\u001b[39m",
      "\u001b[31mAssertionError\u001b[39m                            Traceback (most recent call last)",
      "\u001b[36mCell\u001b[39m\u001b[36m \u001b[39m\u001b[32mIn[8]\u001b[39m\u001b[32m, line 3\u001b[39m\n\u001b[32m      1\u001b[39m rz=\u001b[32m0.75\u001b[39m\n\u001b[32m      2\u001b[39m rx=np.sqrt(\u001b[32m1\u001b[39m-(\u001b[32m0.75\u001b[39m*\u001b[32m0.75\u001b[39m))\n\u001b[32m----> \u001b[39m\u001b[32m3\u001b[39m rho=quantum_pdm_from_r(rx,\u001b[32m0\u001b[39m,rz)\n\u001b[32m      5\u001b[39m \u001b[38;5;28mprint\u001b[39m(rz)\n\u001b[32m      6\u001b[39m \u001b[38;5;28mprint\u001b[39m(rx)\n",
      "\u001b[36mCell\u001b[39m\u001b[36m \u001b[39m\u001b[32mIn[7]\u001b[39m\u001b[32m, line 3\u001b[39m, in \u001b[36mquantum_pdm_from_r\u001b[39m\u001b[34m(rx, ry, rz)\u001b[39m\n\u001b[32m      1\u001b[39m \u001b[38;5;28;01mdef\u001b[39;00m\u001b[38;5;250m \u001b[39m\u001b[34mquantum_pdm_from_r\u001b[39m(rx,ry,rz):\n\u001b[32m      2\u001b[39m     \u001b[38;5;66;03m# construct a probability density matrix from an input 3-vector\u001b[39;00m\n\u001b[32m----> \u001b[39m\u001b[32m3\u001b[39m     \u001b[38;5;28;01massert\u001b[39;00m ((rx*rx) + (ry*ry) + (rz*rz)) < \u001b[32m0.5\u001b[39m+\u001b[32m1e-9\u001b[39m\n\u001b[32m      4\u001b[39m     R = \u001b[32m0.5\u001b[39m * Id + ( rx * X + ry * Y + rz * Z )\n\u001b[32m      5\u001b[39m     \u001b[38;5;28;01mreturn\u001b[39;00m R\n",
      "\u001b[31mAssertionError\u001b[39m: "
     ]
    }
   ],
   "source": [
    "rz=0.75\n",
    "rx=np.sqrt(1-(0.75*0.75))\n",
    "rho=quantum_pdm_from_r(rx,0,rz)\n",
    "\n",
    "print(rz)\n",
    "print(rx)\n",
    "\n",
    "print(is_probability_density_matrix(rho))\n",
    "\n",
    "np.trace(rho@Z)\n",
    "np.trace(rho@X)"
   ]
  },
  {
   "cell_type": "code",
   "execution_count": 9,
   "id": "9ab8c8a3-10c2-442f-9045-4fc76db7273b",
   "metadata": {
    "tags": []
   },
   "outputs": [
    {
     "data": {
      "text/plain": [
       "0.9981"
      ]
     },
     "execution_count": 9,
     "metadata": {},
     "output_type": "execute_result"
    }
   ],
   "source": [
    ".66*.66 + .75*.75"
   ]
  },
  {
   "cell_type": "markdown",
   "id": "6baaa501-5a0c-403b-9568-1e8d7e278a8c",
   "metadata": {},
   "source": [
    "# State transformations <a class=\"anchor\" id=\"transforms\"></a>"
   ]
  },
  {
   "cell_type": "markdown",
   "id": "4b053ced-7239-45d7-ac78-edc67a8ca37d",
   "metadata": {
    "jp-MarkdownHeadingCollapsed": true,
    "tags": []
   },
   "source": [
    "## Change of basis for a qubit"
   ]
  },
  {
   "cell_type": "code",
   "execution_count": 10,
   "id": "q6wY1YeFcTUC",
   "metadata": {
    "colab": {
     "base_uri": "https://localhost:8080/"
    },
    "id": "q6wY1YeFcTUC",
    "outputId": "a9a773f7-41a7-4c22-ed34-79585d9b862c"
   },
   "outputs": [
    {
     "name": "stderr",
     "output_type": "stream",
     "text": [
      "<>:3: SyntaxWarning: invalid escape sequence '\\d'\n",
      "<>:3: SyntaxWarning: invalid escape sequence '\\d'\n",
      "C:\\Users\\aryanbawa\\AppData\\Local\\Temp\\ipykernel_8864\\868829746.py:3: SyntaxWarning: invalid escape sequence '\\d'\n",
      "  \"\"\"\n"
     ]
    }
   ],
   "source": [
    "# Change of basis for a qubit\n",
    "def is_unitary_cob_matrix(M):\n",
    "    \"\"\"\n",
    "    Checks if a given array represents a unitary change of basis matrix.\n",
    "\n",
    "    Unitary matrices must be two-dimensional (matrices), such that\n",
    "    $ U \\times U^\\dag = \\id $\n",
    "\n",
    "    Args:\n",
    "        M ([float]): A two-dimensional array of numbers.\n",
    "\n",
    "    Returns:\n",
    "        (bool): True if the array represents a unitary matrix, False otherwise\n",
    "\n",
    "    Examples of unitary matrices:\n",
    "\n",
    "    >>>  is_unitary_cob_matrix([[1, 0],[0, 1]])\n",
    "    True\n",
    "    >>>  is_unitary_cob_matrix([[1, 1], [1, -1]]/np.sqrt(2))\n",
    "    True\n",
    "    >>>  is_unitary_cob_matrix(np.matrix([[np.exp(0-7j), 0],[0, np.exp(0+3j)]]))\n",
    "    True\n",
    "    >>>  is_unitary_cob_matrix(np.matrix([[np.exp(0-3j), 0],[0, np.exp(0+3j)]]))\n",
    "    True\n",
    "    >>>  is_unitary_cob_matrix([[1, 1], [1, -1]]/np.sqrt(2))\n",
    "    True\n",
    "    >>>  is_unitary_cob_matrix(np.matrix([[0, 1], [1, 0]]))\n",
    "    True\n",
    "    >>>  is_unitary_cob_matrix([[np.cos(3), np.sin(3)], [np.sin(3), -np.cos(3)]])\n",
    "    True\n",
    "    >>>  is_unitary_cob_matrix([[np.cos(3), -np.sin(3)], [-np.sin(3), np.cos(3)]])\n",
    "    True\n",
    "    >>>  is_unitary_cob_matrix([[1 + 0j, 0],[0,1]] )\n",
    "    True\n",
    "\n",
    "    Examples of arrays that are not a probability density matrix:\n",
    "\n",
    "    Not two-dimensional array\n",
    "    >>> is_unitary_cob_matrix([1, 0])\n",
    "    False\n",
    "\n",
    "    Not normalized\n",
    "    >>> is_unitary_cob_matrix([[1, 1],[1 -1]]))\n",
    "    False\n",
    "    \"\"\"\n",
    "\n",
    "    M = np.matrix(M)\n",
    "\n",
    "    if np.allclose(M @ M.H, np.eye(2)):\n",
    "        return True\n",
    "    else:\n",
    "        return False\n"
   ]
  },
  {
   "cell_type": "code",
   "execution_count": 11,
   "id": "99deIx8tbOZC",
   "metadata": {
    "colab": {
     "base_uri": "https://localhost:8080/"
    },
    "id": "99deIx8tbOZC",
    "outputId": "78584b9b-ebe2-4604-c084-641c41beee58"
   },
   "outputs": [
    {
     "name": "stdout",
     "output_type": "stream",
     "text": [
      "True\n"
     ]
    }
   ],
   "source": [
    "def change_of_basis_matrix(theta, phi):\n",
    "    \"\"\"Change of basis formula based on Euler ZYZ decomposition\"\"\"\n",
    "    return expm( -1j * Z * theta ) @ expm( -1j * Y * phi )\n",
    "\n",
    "\n",
    "print(is_unitary_cob_matrix(change_of_basis_matrix(np.random.rand()*2*np.pi, np.random.rand()*np.pi)))\n"
   ]
  },
  {
   "cell_type": "code",
   "execution_count": 12,
   "id": "88fd7QrqqvfI",
   "metadata": {
    "colab": {
     "base_uri": "https://localhost:8080/"
    },
    "id": "88fd7QrqqvfI",
    "outputId": "04a23abf-2e56-4189-e230-e3605508e848"
   },
   "outputs": [
    {
     "name": "stdout",
     "output_type": "stream",
     "text": [
      "True\n",
      "True\n",
      "True\n"
     ]
    }
   ],
   "source": [
    "\n",
    "\n",
    "#P12 = X\n",
    "#R1 = P12 @ R @ P12.H\n",
    "#R2 = P12 @ Rmixed @ P12.H\n",
    "\n",
    "#print(is_probability_density_matrix(R1))\n",
    "#print(is_probability_density_matrix(R2))\n",
    "\n",
    "print(is_unitary_cob_matrix([[np.cos(3),np.sin(3)],[np.sin(3),-np.cos(3)]]))\n",
    "print(is_unitary_cob_matrix([[np.cos(3),np.sin(3)],[-np.sin(3),np.cos(3)]]))\n",
    "print(is_unitary_cob_matrix(expm(-1j * np.random.rand() * X)))"
   ]
  },
  {
   "cell_type": "markdown",
   "id": "hUzanNLWl1TH",
   "metadata": {
    "id": "hUzanNLWl1TH",
    "jp-MarkdownHeadingCollapsed": true,
    "tags": []
   },
   "source": [
    "## Kraus representation for quantum state transformations"
   ]
  },
  {
   "cell_type": "code",
   "execution_count": 13,
   "id": "eax5ScOSptrc",
   "metadata": {
    "id": "eax5ScOSptrc"
   },
   "outputs": [],
   "source": [
    "def is_valid_kraus(Ks):\n",
    "    \"\"\"Check that the Ks={K_j} jump operators satisfy the Kraus normalization\n",
    "\n",
    "      Inputs:\n",
    "        Ks      An array of Kraus operator matrices\n",
    "        rho     The quantum state the channel should be applied to\n",
    "    \"\"\"\n",
    "\n",
    "    normalization = np.eye(2)*0\n",
    "    for K in Ks:\n",
    "        K=np.matrix(K)\n",
    "        normalization = normalization + K.H @ K\n",
    "\n",
    "    return np.allclose(normalization,np.eye(2))\n"
   ]
  },
  {
   "cell_type": "code",
   "execution_count": 10,
   "id": "FzNM28Jghe-4",
   "metadata": {
    "id": "FzNM28Jghe-4"
   },
   "outputs": [],
   "source": [
    "def kraus_channel(Ks, rho, TT=False):\n",
    "    \"\"\"Make and apply a quantum channel characterized by Ks={K_j} on pdm rho\n",
    "\n",
    "      Inputs:\n",
    "         Ks      An array of Kraus operator matrices\n",
    "         rho     The quantum state the channel should be applied to\n",
    "         TT      (bool, default False), if true, do superop transpose\n",
    "    \"\"\"\n",
    "\n",
    "    R = id @ rho @ id\n",
    "    Rf = np.zeros(R.shape)\n",
    "\n",
    "    for K in Ks:\n",
    "        K = np.matrix(K)\n",
    "        if not TT:\n",
    "            Rf = Rf + K @ R @ K.H\n",
    "        else:\n",
    "            Rf = Rf + K.H @ R @ K\n",
    "\n",
    "    return Rf"
   ]
  },
  {
   "cell_type": "markdown",
   "id": "e9ac8390-de63-48b9-b17f-5f282da39f6f",
   "metadata": {},
   "source": [
    "**Bi-stochastic transformations**"
   ]
  },
  {
   "cell_type": "code",
   "execution_count": 14,
   "id": "94QtCeDOl0Ul",
   "metadata": {
    "colab": {
     "base_uri": "https://localhost:8080/"
    },
    "id": "94QtCeDOl0Ul",
    "outputId": "d6d9c560-b37c-4189-de50-58d069de343b"
   },
   "outputs": [
    {
     "name": "stdout",
     "output_type": "stream",
     "text": [
      "True\n"
     ]
    },
    {
     "data": {
      "text/plain": [
       "True"
      ]
     },
     "execution_count": 14,
     "metadata": {},
     "output_type": "execute_result"
    }
   ],
   "source": [
    "#np.random.random()\n",
    "p=0.2513328968202828\n",
    "\n",
    "Bit_flip_ops = [X*np.sqrt(p) , Id * np.sqrt(1-p)]\n",
    "Phase_flip_ops = [Z*np.sqrt(p) , Id * np.sqrt(1-p)]\n",
    "Depol_ops =  [X*np.sqrt(p)/2 , Y*np.sqrt(p)/2, Z*np.sqrt(p)/2, Id * np.sqrt(1-3*p/4)]\n",
    "\n",
    "def channel_transpose(Ks):\n",
    "    \"Superoperator transpose channel\"\n",
    "    KT=[]\n",
    "    for K in Ks:\n",
    "        KT.append(K.H)\n",
    "    return KT\n",
    "\n",
    "print(is_valid_kraus(channel_transpose(Bit_flip_ops)))\n",
    "is_valid_kraus(Bit_flip_ops)\n",
    "\n"
   ]
  },
  {
   "cell_type": "markdown",
   "id": "62aGxBRUEWYH",
   "metadata": {
    "id": "62aGxBRUEWYH"
   },
   "source": [
    "**General stochastic transformation of a qubit**"
   ]
  },
  {
   "cell_type": "code",
   "execution_count": 15,
   "id": "qBBgRhnMr5zE",
   "metadata": {
    "colab": {
     "base_uri": "https://localhost:8080/",
     "height": 165
    },
    "id": "qBBgRhnMr5zE",
    "outputId": "51a434d0-349c-4202-d3f3-007b5ce762bf"
   },
   "outputs": [
    {
     "name": "stdout",
     "output_type": "stream",
     "text": [
      "True\n",
      "False\n"
     ]
    }
   ],
   "source": [
    "#gamma parameter controls the strength of the channel.\n",
    "#Try playing with this value to see how rapidly states decohere\n",
    "g=.5\n",
    "\n",
    "AD = [ np.matrix([[1,0],[0,np.sqrt(1-g)]]) , np.matrix([[0,np.sqrt(g)],[0,0]]) ]\n",
    "\n",
    "\n",
    "print(is_valid_kraus(AD))\n",
    "print(is_valid_kraus(channel_transpose(AD)))"
   ]
  },
  {
   "cell_type": "code",
   "execution_count": 46,
   "id": "VuMtTaM3seDC",
   "metadata": {
    "colab": {
     "base_uri": "https://localhost:8080/",
     "height": 235
    },
    "id": "VuMtTaM3seDC",
    "outputId": "a60601cc-a252-4df8-faee-f327873a4b6f"
   },
   "outputs": [
    {
     "name": "stdout",
     "output_type": "stream",
     "text": [
      "True\n"
     ]
    }
   ],
   "source": [
    "#gamma parameter controls the strength of the channel.\n",
    "#Try playing with this value\n",
    "g=1\n",
    "p=.6\n",
    "gAD = [\n",
    "    np.sqrt(p)   *np.matrix([[1,0],[0,np.sqrt(1-g)]]) ,\n",
    "    np.sqrt(p)   *np.matrix([[0,np.sqrt(g)],[0,0]]) ,\n",
    "    np.sqrt(1-p) *np.matrix([[0,0],[np.sqrt(g),0]]) ,\n",
    "    np.sqrt(1-p) *np.matrix([[np.sqrt(1-g),0],[0,1]] )]\n",
    "print(is_valid_kraus(gAD))"
   ]
  },
  {
   "cell_type": "markdown",
   "id": "fa23eb9d-bdfd-4663-895b-9e327dac13e7",
   "metadata": {},
   "source": [
    "## Continuous time transformations"
   ]
  },
  {
   "cell_type": "code",
   "execution_count": 16,
   "id": "87319f61-4427-4237-8be0-5dd09f1782cd",
   "metadata": {
    "tags": []
   },
   "outputs": [],
   "source": [
    "def propagate_rho(H,Ls,rho0,t):\n",
    "    \"\"\"Propagate density matrix with vectorized quantum probability balance equation\"\"\"\n",
    "\n",
    "    #vectorize the density matrix\n",
    "    R0=rho0.flatten()\n",
    "    R0=R0.T\n",
    "    \n",
    "    #Build the generator using the vectorization \n",
    "    #eq: vec(ABC) = C^T \\otimes A vec(B)\n",
    "    Gen = -1j*(np.kron(Id,H) - np.kron(H.T,Id))\n",
    "    for Li in Ls:\n",
    "        Li=np.matrix(Li)\n",
    "        Gen = Gen +     np.kron(np.conj(Li),Li)\n",
    "        Gen = Gen - 0.5*np.kron(Li.T@np.conj(Li),Id)\n",
    "        Gen = Gen - 0.5*np.kron(Id,Li.H@ Li)\n",
    "    \n",
    "    #Do the propagation\n",
    "    R = expm(Gen*t)@ R0\n",
    "    \n",
    "    #reshape and return\n",
    "    return R.reshape(rho0.shape)"
   ]
  },
  {
   "cell_type": "code",
   "execution_count": 17,
   "id": "2a029dfd-3fcd-400d-a190-88e65c14a4a0",
   "metadata": {
    "tags": []
   },
   "outputs": [
    {
     "name": "stdout",
     "output_type": "stream",
     "text": [
      "[[-3594.55891202   207.17672156]\n",
      " [ 3594.55891202  -207.17672156]]\n",
      "[[0.75+0.j 0.  +0.j]\n",
      " [0.  +0.j 0.25+0.j]]\n",
      "[[0.00331093+0.j 0.        +0.j]\n",
      " [0.        +0.j 0.99668907+0.j]]\n",
      "[[0.00331093+0.j 0.        +0.j]\n",
      " [0.        +0.j 0.99668907+0.j]]\n",
      "[[0.00331093+0.j 0.        +0.j]\n",
      " [0.        +0.j 0.99668907+0.j]]\n",
      "[[0.00331093+0.j 0.        +0.j]\n",
      " [0.        +0.j 0.99668907+0.j]]\n",
      "[[0.00331093+0.j 0.        +0.j]\n",
      " [0.        +0.j 0.99668907+0.j]]\n"
     ]
    }
   ],
   "source": [
    "#Markov chain quantum lift\n",
    "\n",
    "# M is a probability transition matrix\n",
    "# while W is a rate matrix i.e. W = M/dt\n",
    "\n",
    "W = np.abs(np.random.randn(2, 2))  # Wij nonzero, no other assumptions\n",
    "D = np.diag(np.sum(W, axis=0))  # sum along the row, then turn into diagonal matrix\n",
    "\n",
    "# Here axis=0 or axis=1 will change the stochastic matrix from left to right\n",
    "# Feel free to test this out\n",
    "\n",
    "L = W - D\n",
    "#try rescaling the generator\n",
    "L = L*4000\n",
    "\n",
    "print(L)\n",
    "\n",
    "\n",
    "L00= L[0,0] * np.matrix([[1,0],[0,0]])\n",
    "L01= L[0,1] * np.matrix([[0,1],[0,0]])\n",
    "L10= L[1,0] * np.matrix([[0,0],[1,0]])\n",
    "L11= L[1,1] * np.matrix([[0,0],[0,1]])\n",
    "\n",
    "Ls = [L00, L01, L10, L11]\n",
    "\n",
    "\n",
    "rho0=np.matrix([[.75,0],[0,.25]])\n",
    "\n",
    "H=np.zeros((2,2))\n",
    "\n",
    "\n",
    "print(propagate_rho(H,Ls,rho0,0))\n",
    "print(propagate_rho(H,Ls,rho0,1))\n",
    "print(propagate_rho(H,Ls,rho0,2))\n",
    "print(propagate_rho(H,Ls,rho0,3))\n",
    "print(propagate_rho(H,Ls,rho0,4))\n",
    "print(propagate_rho(H,Ls,rho0,5))"
   ]
  },
  {
   "cell_type": "code",
   "execution_count": 75,
   "id": "ba775b3c-ee68-41a1-8374-19de5b063590",
   "metadata": {
    "tags": []
   },
   "outputs": [
    {
     "name": "stdout",
     "output_type": "stream",
     "text": [
      "[[0.75+0.j 0.  +0.j]\n",
      " [0.  +0.j 0.25+0.j]]\n",
      "[[0.65518192+0.j 0.        +0.j]\n",
      " [0.        +0.j 0.34481808+0.j]]\n",
      "[[0.62030029+0.j 0.        +0.j]\n",
      " [0.        +0.j 0.37969971+0.j]]\n",
      "[[0.60746806+0.j 0.        +0.j]\n",
      " [0.        +0.j 0.39253194+0.j]]\n",
      "[[0.60274735+0.j 0.        +0.j]\n",
      " [0.        +0.j 0.39725265+0.j]]\n",
      "[[0.60101069+0.j 0.        +0.j]\n",
      " [0.        +0.j 0.39898931+0.j]]\n"
     ]
    }
   ],
   "source": [
    "#Amplitude dampening channel in continuous time\n",
    "p=.6\n",
    "g=1\n",
    "Ls = [\n",
    "    np.sqrt(p)   *np.matrix([[1,0],[0,np.sqrt(1-g)]]) ,\n",
    "    np.sqrt(p)   *np.matrix([[0,np.sqrt(g)],[0,0]]) ,\n",
    "    np.sqrt(1-p) *np.matrix([[0,0],[np.sqrt(g),0]]) ,\n",
    "    np.sqrt(1-p) *np.matrix([[np.sqrt(1-g),0],[0,1]] )]\n",
    "\n",
    "H=np.zeros((2,2))\n",
    "rho0=np.matrix([[.75,0],[0,.25]])\n",
    "               \n",
    "print(propagate_rho(H,Ls,rho0,0))\n",
    "print(propagate_rho(H,Ls,rho0,1))\n",
    "print(propagate_rho(H,Ls,rho0,2))   \n",
    "print(propagate_rho(H,Ls,rho0,3))   \n",
    "print(propagate_rho(H,Ls,rho0,4))  \n",
    "print(propagate_rho(H,Ls,rho0,5))  "
   ]
  },
  {
   "cell_type": "code",
   "execution_count": 18,
   "id": "0a940dfe-4bff-4ea8-8983-3c225a591847",
   "metadata": {
    "tags": []
   },
   "outputs": [
    {
     "name": "stdout",
     "output_type": "stream",
     "text": [
      "[[1.+0.j 0.+0.j]\n",
      " [0.+0.j 0.+0.j]]\n",
      "[[ 9.99945690e-01+0.j -7.36930210e-03+0.j]\n",
      " [-7.36930210e-03+0.j  5.43095629e-05+0.j]]\n",
      "[[ 0.99657777+0.j -0.05839967+0.j]\n",
      " [-0.05839967+0.j  0.00342223+0.j]]\n",
      "[[0.68117888+0.j 0.46601954+0.j]\n",
      " [0.46601954+0.j 0.31882112+0.j]]\n",
      "[[0.48540024+0.j 0.4997868 +0.j]\n",
      " [0.4997868 +0.j 0.51459976+0.j]]\n",
      "[[0.29192658+0.j 0.45464871+0.j]\n",
      " [0.45464871+0.j 0.70807342+0.j]]\n",
      "[[0.13130314+0.j 0.33773159+0.j]\n",
      " [0.33773159+0.j 0.86869686+0.j]]\n",
      "[[0.02888883+0.j 0.16749408+0.j]\n",
      " [0.16749408+0.j 0.97111117+0.j]]\n",
      "[[ 8.52612103e-04+0.j -2.91870717e-02+0.j]\n",
      " [-2.91870717e-02+0.j  9.99147388e-01+0.j]]\n",
      "[[ 0.05162079+0.j -0.22126022+0.j]\n",
      " [-0.22126022+0.j  0.94837921+0.j]]\n",
      "[[ 0.17317819+0.j -0.37840125+0.j]\n",
      " [-0.37840125+0.j  0.82682181+0.j]]\n"
     ]
    }
   ],
   "source": [
    "#Schrodinger equation\n",
    "\n",
    "Ls=[np.zeros((2,2))]\n",
    "\n",
    "#try rescaling H\n",
    "H = 2*Y\n",
    "\n",
    "#pure state\n",
    "rho0=np.matrix([[1,0],[0,0]])\n",
    "\n",
    "\n",
    "print(propagate_rho(H,Ls,rho0,0))\n",
    "print(propagate_rho(H,Ls,rho0,.1))\n",
    "print(propagate_rho(H,Ls,rho0,.2))   \n",
    "print(propagate_rho(H,Ls,rho0,.3))   \n",
    "print(propagate_rho(H,Ls,rho0,.4))  \n",
    "print(propagate_rho(H,Ls,rho0,.5))  \n",
    "print(propagate_rho(H,Ls,rho0,.6))  \n",
    "print(propagate_rho(H,Ls,rho0,.7))  \n",
    "print(propagate_rho(H,Ls,rho0,.8))  \n",
    "print(propagate_rho(H,Ls,rho0,.9))  \n",
    "print(propagate_rho(H,Ls,rho0,1))  \n",
    "\n",
    "#plot the [0,0] component of the probability density matrix"
   ]
  },
  {
   "cell_type": "code",
   "execution_count": 1,
   "id": "8ec433f9-75e9-4913-bc5a-0ad657028239",
   "metadata": {},
   "outputs": [],
   "source": [
    "# JDWhitfield 2024"
   ]
  },
  {
   "cell_type": "code",
   "execution_count": 19,
   "id": "3c686744",
   "metadata": {
    "id": "3c686744",
    "outputId": "d02eef19-d35e-4788-f476-0bd3c8315590"
   },
   "outputs": [
    {
     "name": "stdout",
     "output_type": "stream",
     "text": [
      "vecp: \n",
      "[[0.2513329]\n",
      " [0.7486671]]\n"
     ]
    },
    {
     "ename": "NameError",
     "evalue": "name 'is_probability_density_vector' is not defined",
     "output_type": "error",
     "traceback": [
      "\u001b[31m---------------------------------------------------------------------------\u001b[39m",
      "\u001b[31mNameError\u001b[39m                                 Traceback (most recent call last)",
      "\u001b[36mCell\u001b[39m\u001b[36m \u001b[39m\u001b[32mIn[19]\u001b[39m\u001b[32m, line 5\u001b[39m\n\u001b[32m      3\u001b[39m \u001b[38;5;28mprint\u001b[39m(\u001b[33mf\u001b[39m\u001b[33m\"\u001b[39m\u001b[33mvecp: \u001b[39m\u001b[38;5;130;01m\\n\u001b[39;00m\u001b[38;5;132;01m{\u001b[39;00mvecp\u001b[38;5;132;01m}\u001b[39;00m\u001b[33m\"\u001b[39m)\n\u001b[32m      4\u001b[39m \u001b[38;5;66;03m# vecp and its transpose should both be probability density vectors\u001b[39;00m\n\u001b[32m----> \u001b[39m\u001b[32m5\u001b[39m \u001b[38;5;28;01massert\u001b[39;00m is_probability_density_vector(vecp)\n\u001b[32m      6\u001b[39m \u001b[38;5;28;01massert\u001b[39;00m is_probability_density_vector(vecp.T)\n\u001b[32m      8\u001b[39m \u001b[38;5;66;03m# bias parameter\u001b[39;00m\n",
      "\u001b[31mNameError\u001b[39m: name 'is_probability_density_vector' is not defined"
     ]
    }
   ],
   "source": [
    "# Turn our probability p (set at the top) into a probability density vector\n",
    "vecp = np.matrix([[p], [1 - p]])\n",
    "print(f\"vecp: \\n{vecp}\")\n",
    "# vecp and its transpose should both be probability density vectors\n",
    "assert is_probability_density_vector(vecp)\n",
    "assert is_probability_density_vector(vecp.T)\n",
    "\n",
    "# bias parameter\n",
    "b = p - 1 / 2"
   ]
  },
  {
   "cell_type": "code",
   "execution_count": 20,
   "id": "26786d30",
   "metadata": {
    "id": "26786d30"
   },
   "outputs": [],
   "source": [
    "# Useful matrices to represent change of basis of 2D probability vectors\n",
    "I = np.eye(2)  # the identity\n",
    "P12 = np.matrix([[0, 1], [1, 0]])  # permutation (1 2) -- change of basis for a bit"
   ]
  },
  {
   "cell_type": "code",
   "execution_count": 25,
   "id": "3006e818",
   "metadata": {
    "id": "3006e818"
   },
   "outputs": [
    {
     "name": "stdout",
     "output_type": "stream",
     "text": [
      "**********************************************************************\n",
      "File \"__main__\", line 17, in __main__.is_unitary_cob_matrix\n",
      "Failed example:\n",
      "     is_unitary_cob_matrix([[1, 0],[0, 1]])\n",
      "Exception raised:\n",
      "    Traceback (most recent call last):\n",
      "      File \"c:\\Users\\aryanbawa\\miniconda3\\envs\\phys75-env\\Lib\\doctest.py\", line 1395, in __run\n",
      "        exec(compile(example.source, filename, \"single\",\n",
      "             ~~~~~~~^^^^^^^^^^^^^^^^^^^^^^^^^^^^^^^^^^^^\n",
      "                     compileflags, True), test.globs)\n",
      "                     ^^^^^^^^^^^^^^^^^^^\n",
      "      File \"<doctest __main__.is_unitary_cob_matrix[0]>\", line 1\n",
      "        is_unitary_cob_matrix([[1, 0],[0, 1]])\n",
      "    IndentationError: unexpected indent\n",
      "**********************************************************************\n",
      "File \"__main__\", line 19, in __main__.is_unitary_cob_matrix\n",
      "Failed example:\n",
      "     is_unitary_cob_matrix([[1, 1], [1, -1]]/np.sqrt(2))\n",
      "Exception raised:\n",
      "    Traceback (most recent call last):\n",
      "      File \"c:\\Users\\aryanbawa\\miniconda3\\envs\\phys75-env\\Lib\\doctest.py\", line 1395, in __run\n",
      "        exec(compile(example.source, filename, \"single\",\n",
      "             ~~~~~~~^^^^^^^^^^^^^^^^^^^^^^^^^^^^^^^^^^^^\n",
      "                     compileflags, True), test.globs)\n",
      "                     ^^^^^^^^^^^^^^^^^^^\n",
      "      File \"<doctest __main__.is_unitary_cob_matrix[1]>\", line 1\n",
      "        is_unitary_cob_matrix([[1, 1], [1, -1]]/np.sqrt(2))\n",
      "    IndentationError: unexpected indent\n",
      "**********************************************************************\n",
      "File \"__main__\", line 21, in __main__.is_unitary_cob_matrix\n",
      "Failed example:\n",
      "     is_unitary_cob_matrix(np.matrix([[np.exp(0-7j), 0],[0, np.exp(0+3j)]]))\n",
      "Exception raised:\n",
      "    Traceback (most recent call last):\n",
      "      File \"c:\\Users\\aryanbawa\\miniconda3\\envs\\phys75-env\\Lib\\doctest.py\", line 1395, in __run\n",
      "        exec(compile(example.source, filename, \"single\",\n",
      "             ~~~~~~~^^^^^^^^^^^^^^^^^^^^^^^^^^^^^^^^^^^^\n",
      "                     compileflags, True), test.globs)\n",
      "                     ^^^^^^^^^^^^^^^^^^^\n",
      "      File \"<doctest __main__.is_unitary_cob_matrix[2]>\", line 1\n",
      "        is_unitary_cob_matrix(np.matrix([[np.exp(0-7j), 0],[0, np.exp(0+3j)]]))\n",
      "    IndentationError: unexpected indent\n",
      "**********************************************************************\n",
      "File \"__main__\", line 23, in __main__.is_unitary_cob_matrix\n",
      "Failed example:\n",
      "     is_unitary_cob_matrix(np.matrix([[np.exp(0-3j), 0],[0, np.exp(0+3j)]]))\n",
      "Exception raised:\n",
      "    Traceback (most recent call last):\n",
      "      File \"c:\\Users\\aryanbawa\\miniconda3\\envs\\phys75-env\\Lib\\doctest.py\", line 1395, in __run\n",
      "        exec(compile(example.source, filename, \"single\",\n",
      "             ~~~~~~~^^^^^^^^^^^^^^^^^^^^^^^^^^^^^^^^^^^^\n",
      "                     compileflags, True), test.globs)\n",
      "                     ^^^^^^^^^^^^^^^^^^^\n",
      "      File \"<doctest __main__.is_unitary_cob_matrix[3]>\", line 1\n",
      "        is_unitary_cob_matrix(np.matrix([[np.exp(0-3j), 0],[0, np.exp(0+3j)]]))\n",
      "    IndentationError: unexpected indent\n",
      "**********************************************************************\n",
      "File \"__main__\", line 25, in __main__.is_unitary_cob_matrix\n",
      "Failed example:\n",
      "     is_unitary_cob_matrix([[1, 1], [1, -1]]/np.sqrt(2))\n",
      "Exception raised:\n",
      "    Traceback (most recent call last):\n",
      "      File \"c:\\Users\\aryanbawa\\miniconda3\\envs\\phys75-env\\Lib\\doctest.py\", line 1395, in __run\n",
      "        exec(compile(example.source, filename, \"single\",\n",
      "             ~~~~~~~^^^^^^^^^^^^^^^^^^^^^^^^^^^^^^^^^^^^\n",
      "                     compileflags, True), test.globs)\n",
      "                     ^^^^^^^^^^^^^^^^^^^\n",
      "      File \"<doctest __main__.is_unitary_cob_matrix[4]>\", line 1\n",
      "        is_unitary_cob_matrix([[1, 1], [1, -1]]/np.sqrt(2))\n",
      "    IndentationError: unexpected indent\n",
      "**********************************************************************\n",
      "File \"__main__\", line 27, in __main__.is_unitary_cob_matrix\n",
      "Failed example:\n",
      "     is_unitary_cob_matrix(np.matrix([[0, 1], [1, 0]]))\n",
      "Exception raised:\n",
      "    Traceback (most recent call last):\n",
      "      File \"c:\\Users\\aryanbawa\\miniconda3\\envs\\phys75-env\\Lib\\doctest.py\", line 1395, in __run\n",
      "        exec(compile(example.source, filename, \"single\",\n",
      "             ~~~~~~~^^^^^^^^^^^^^^^^^^^^^^^^^^^^^^^^^^^^\n",
      "                     compileflags, True), test.globs)\n",
      "                     ^^^^^^^^^^^^^^^^^^^\n",
      "      File \"<doctest __main__.is_unitary_cob_matrix[5]>\", line 1\n",
      "        is_unitary_cob_matrix(np.matrix([[0, 1], [1, 0]]))\n",
      "    IndentationError: unexpected indent\n",
      "**********************************************************************\n",
      "File \"__main__\", line 29, in __main__.is_unitary_cob_matrix\n",
      "Failed example:\n",
      "     is_unitary_cob_matrix([[np.cos(3), np.sin(3)], [np.sin(3), -np.cos(3)]])\n",
      "Exception raised:\n",
      "    Traceback (most recent call last):\n",
      "      File \"c:\\Users\\aryanbawa\\miniconda3\\envs\\phys75-env\\Lib\\doctest.py\", line 1395, in __run\n",
      "        exec(compile(example.source, filename, \"single\",\n",
      "             ~~~~~~~^^^^^^^^^^^^^^^^^^^^^^^^^^^^^^^^^^^^\n",
      "                     compileflags, True), test.globs)\n",
      "                     ^^^^^^^^^^^^^^^^^^^\n",
      "      File \"<doctest __main__.is_unitary_cob_matrix[6]>\", line 1\n",
      "        is_unitary_cob_matrix([[np.cos(3), np.sin(3)], [np.sin(3), -np.cos(3)]])\n",
      "    IndentationError: unexpected indent\n",
      "**********************************************************************\n",
      "File \"__main__\", line 31, in __main__.is_unitary_cob_matrix\n",
      "Failed example:\n",
      "     is_unitary_cob_matrix([[np.cos(3), -np.sin(3)], [-np.sin(3), np.cos(3)]])\n",
      "Exception raised:\n",
      "    Traceback (most recent call last):\n",
      "      File \"c:\\Users\\aryanbawa\\miniconda3\\envs\\phys75-env\\Lib\\doctest.py\", line 1395, in __run\n",
      "        exec(compile(example.source, filename, \"single\",\n",
      "             ~~~~~~~^^^^^^^^^^^^^^^^^^^^^^^^^^^^^^^^^^^^\n",
      "                     compileflags, True), test.globs)\n",
      "                     ^^^^^^^^^^^^^^^^^^^\n",
      "      File \"<doctest __main__.is_unitary_cob_matrix[7]>\", line 1\n",
      "        is_unitary_cob_matrix([[np.cos(3), -np.sin(3)], [-np.sin(3), np.cos(3)]])\n",
      "    IndentationError: unexpected indent\n",
      "**********************************************************************\n",
      "File \"__main__\", line 33, in __main__.is_unitary_cob_matrix\n",
      "Failed example:\n",
      "     is_unitary_cob_matrix([[1 + 0j, 0],[0,1]] )\n",
      "Exception raised:\n",
      "    Traceback (most recent call last):\n",
      "      File \"c:\\Users\\aryanbawa\\miniconda3\\envs\\phys75-env\\Lib\\doctest.py\", line 1395, in __run\n",
      "        exec(compile(example.source, filename, \"single\",\n",
      "             ~~~~~~~^^^^^^^^^^^^^^^^^^^^^^^^^^^^^^^^^^^^\n",
      "                     compileflags, True), test.globs)\n",
      "                     ^^^^^^^^^^^^^^^^^^^\n",
      "      File \"<doctest __main__.is_unitary_cob_matrix[8]>\", line 1\n",
      "        is_unitary_cob_matrix([[1 + 0j, 0],[0,1]] )\n",
      "    IndentationError: unexpected indent\n",
      "**********************************************************************\n",
      "File \"__main__\", line 43, in __main__.is_unitary_cob_matrix\n",
      "Failed example:\n",
      "    is_unitary_cob_matrix([[1, 1],[1 -1]]))\n",
      "Exception raised:\n",
      "    Traceback (most recent call last):\n",
      "      File \"c:\\Users\\aryanbawa\\miniconda3\\envs\\phys75-env\\Lib\\doctest.py\", line 1395, in __run\n",
      "        exec(compile(example.source, filename, \"single\",\n",
      "             ~~~~~~~^^^^^^^^^^^^^^^^^^^^^^^^^^^^^^^^^^^^\n",
      "                     compileflags, True), test.globs)\n",
      "                     ^^^^^^^^^^^^^^^^^^^\n",
      "      File \"<doctest __main__.is_unitary_cob_matrix[10]>\", line 1\n",
      "        is_unitary_cob_matrix([[1, 1],[1 -1]]))\n",
      "                                              ^\n",
      "    SyntaxError: unmatched ')'\n",
      "\u001b[31m**********************************************************************\u001b[0m\n",
      "1 item had failures:\n",
      "  10 of  11 in __main__.is_unitary_cob_matrix\n",
      "\u001b[1;31m***Test Failed*** 10 failures\u001b[0m.\n"
     ]
    },
    {
     "data": {
      "text/plain": [
       "TestResults(failed=10, attempted=31)"
      ]
     },
     "execution_count": 25,
     "metadata": {},
     "output_type": "execute_result"
    }
   ],
   "source": [
    "# bistochastic change of basis for a bit\n",
    "\n",
    "# NOTE: the \": float\" is a type hint.\n",
    "# Using them is *not* necessary, but they can help document what your function does\n",
    "# (and check that what you've done is correct!).\n",
    "def change_of_basis_matrix_2d(w: float):\n",
    "    \"\"\"Given a weight w, returns a change of basis matrix for 2D probability vectors\n",
    "\n",
    "    Args:\n",
    "        w (float): The weight given to permutation P12 (in the range [0, 1])\n",
    "\n",
    "    Returns:\n",
    "        M (np.matrix): Two [2x2] matrices representing a bistochastic channel\n",
    "\n",
    "    Raises:\n",
    "        ValueError: if the weight w is not real and in the range [0, 1]\n",
    "\n",
    "    Examples:\n",
    "    >>> change_of_basis_matrix_2d(0)\n",
    "    matrix([[1., 0.],\n",
    "            [0., 1.]])\n",
    "\n",
    "    >>> change_of_basis_matrix_2d(1)\n",
    "    matrix([[0., 1.],\n",
    "            [1., 0.]])\n",
    "\n",
    "    >>> change_of_basis_matrix_2d(0.5)\n",
    "    matrix([[0.5, 0.5],\n",
    "            [0.5, 0.5]])\n",
    "\n",
    "    >>> change_of_basis_matrix_2d(0+0j)\n",
    "    matrix([[1., 0.],\n",
    "            [0., 1.]])\n",
    "\n",
    "    >>> change_of_basis_matrix_2d(-1)\n",
    "    Traceback (most recent call last):\n",
    "    ...\n",
    "    ValueError: w must be between 0 and 1 (inclusive), given: -1\n",
    "\n",
    "    >>> change_of_basis_matrix_2d(0+1j)\n",
    "    Traceback (most recent call last):\n",
    "    ...\n",
    "    ValueError: w must be real, given: 1j\n",
    "\n",
    "    \"\"\"\n",
    "    if not np.isreal(w):\n",
    "        raise ValueError(f\"w must be real, given: {w}\")\n",
    "    w = np.real(w)  # remove \"+0j\" imaginary component\n",
    "    if w < 0 or w > 1:\n",
    "        raise ValueError(f\"w must be between 0 and 1 (inclusive), given: {w}\")\n",
    "    M = w * P12 + (1 - w) * I\n",
    "    return M\n",
    "\n",
    "\n",
    "# uncomment to run tests:\n",
    "doctest.testmod()"
   ]
  },
  {
   "cell_type": "code",
   "execution_count": 26,
   "id": "d1b430de",
   "metadata": {
    "id": "d1b430de"
   },
   "outputs": [
    {
     "ename": "NameError",
     "evalue": "name 'is_probability_density_vector' is not defined",
     "output_type": "error",
     "traceback": [
      "\u001b[31m---------------------------------------------------------------------------\u001b[39m",
      "\u001b[31mNameError\u001b[39m                                 Traceback (most recent call last)",
      "\u001b[36mCell\u001b[39m\u001b[36m \u001b[39m\u001b[32mIn[26]\u001b[39m\u001b[32m, line 1\u001b[39m\n\u001b[32m----> \u001b[39m\u001b[32m1\u001b[39m \u001b[38;5;28;01massert\u001b[39;00m is_probability_density_vector(vecp)\n\u001b[32m      2\u001b[39m \u001b[38;5;66;03m# NOTE: the \"@\" symbol is how numpy expresses matrix multiplication\u001b[39;00m\n\u001b[32m      3\u001b[39m \u001b[38;5;28;01massert\u001b[39;00m is_probability_density_vector(change_of_basis_matrix_2d(\u001b[32m0\u001b[39m) @ vecp)\n",
      "\u001b[31mNameError\u001b[39m: name 'is_probability_density_vector' is not defined"
     ]
    }
   ],
   "source": [
    "assert is_probability_density_vector(vecp)\n",
    "# NOTE: the \"@\" symbol is how numpy expresses matrix multiplication\n",
    "assert is_probability_density_vector(change_of_basis_matrix_2d(0) @ vecp)\n",
    "assert is_probability_density_vector(change_of_basis_matrix_2d(1) @ vecp)\n",
    "assert is_probability_density_vector(change_of_basis_matrix_2d(0.5) @ vecp)"
   ]
  },
  {
   "cell_type": "code",
   "execution_count": 27,
   "id": "07e391dd",
   "metadata": {
    "id": "07e391dd"
   },
   "outputs": [],
   "source": [
    "# general stochastic transformations of a bit\n",
    "def general_markov_transform_2d(w1: float, w2: float):\n",
    "    \"\"\"Given two weights w1 and w2, return the general (2D) Markov transform\n",
    "\n",
    "    Args:\n",
    "        w1 (float): The weight of no permutation (in the range [0, 1])\n",
    "        w2 (float): The weight of no permutation (in the range [0, 1])\n",
    "\n",
    "    Returns:\n",
    "        M (np.matrix): A 2x2 matrix representing a general Markov transform\n",
    "\n",
    "    Raises:\n",
    "        ValueError: if the weights (w1 and w2) are not both real and in the range [0, 1]\n",
    "\n",
    "    Examples:\n",
    "\n",
    "    >>> general_markov_transform_2d(0, 0)\n",
    "    matrix([[0., 0.],\n",
    "            [1., 1.]])\n",
    "\n",
    "    >>> general_markov_transform_2d(0, 1)\n",
    "    matrix([[0., 1.],\n",
    "            [1., 0.]])\n",
    "\n",
    "    >>> general_markov_transform_2d(0.5, 0.5)\n",
    "    matrix([[0.5, 0.5],\n",
    "            [0.5, 0.5]])\n",
    "\n",
    "    Failing examples:\n",
    "\n",
    "    >>> general_markov_transform_2d(0+1j, 0)\n",
    "    Traceback (most recent call last):\n",
    "    ...\n",
    "    ValueError: w1 must be real, given: 1j\n",
    "\n",
    "    >>> general_markov_transform_2d(0, 0+1j)\n",
    "    Traceback (most recent call last):\n",
    "    ...\n",
    "    ValueError: w2 must be real, given: 1j\n",
    "\n",
    "    >>> general_markov_transform_2d(2, 0)\n",
    "    Traceback (most recent call last):\n",
    "    ...\n",
    "    ValueError: w1 must be between 0 and 1 (inclusive), given: 2\n",
    "\n",
    "    >>> general_markov_transform_2d(0, 2)\n",
    "    Traceback (most recent call last):\n",
    "    ...\n",
    "    ValueError: w2 must be between 0 and 1 (inclusive), given: 2\n",
    "    \"\"\"\n",
    "    # w1 checks\n",
    "    if not np.isreal(w1):\n",
    "        raise ValueError(f\"w1 must be real, given: {w1}\")\n",
    "    w1 = np.real(w1)  # remove \"+0j\" imaginary component\n",
    "    if w1 < 0 or w1 > 1:\n",
    "        raise ValueError(f\"w1 must be between 0 and 1 (inclusive), given: {w1}\")\n",
    "    # w2 checks\n",
    "    if not np.isreal(w2):\n",
    "        raise ValueError(f\"w2 must be real, given: {w2}\")\n",
    "    w2 = np.real(w2)  # remove \"+0j\" imaginary component\n",
    "    if w2 < 0 or w2 > 1:\n",
    "        raise ValueError(f\"w2 must be between 0 and 1 (inclusive), given: {w2}\")\n",
    "\n",
    "    M = np.matrix([[w1, w2], [1.0 - w1, 1.0 - w2]])\n",
    "    return M\n",
    "\n",
    "\n",
    "# uncomment to run tests:\n",
    "# doctest.testmod()"
   ]
  },
  {
   "cell_type": "code",
   "execution_count": 28,
   "id": "624eb0ae",
   "metadata": {
    "id": "624eb0ae"
   },
   "outputs": [
    {
     "ename": "NameError",
     "evalue": "name 'is_probability_density_vector' is not defined",
     "output_type": "error",
     "traceback": [
      "\u001b[31m---------------------------------------------------------------------------\u001b[39m",
      "\u001b[31mNameError\u001b[39m                                 Traceback (most recent call last)",
      "\u001b[36mCell\u001b[39m\u001b[36m \u001b[39m\u001b[32mIn[28]\u001b[39m\u001b[32m, line 1\u001b[39m\n\u001b[32m----> \u001b[39m\u001b[32m1\u001b[39m \u001b[38;5;28;01massert\u001b[39;00m is_probability_density_vector(general_markov_transform_2d(\u001b[32m0\u001b[39m, \u001b[32m0\u001b[39m) @ vecp)\n\u001b[32m      2\u001b[39m \u001b[38;5;28;01massert\u001b[39;00m is_probability_density_vector(general_markov_transform_2d(\u001b[32m1\u001b[39m, \u001b[32m0\u001b[39m) @ vecp)\n\u001b[32m      3\u001b[39m \u001b[38;5;28;01massert\u001b[39;00m is_probability_density_vector(general_markov_transform_2d(\u001b[32m0\u001b[39m, \u001b[32m1\u001b[39m) @ vecp)\n",
      "\u001b[31mNameError\u001b[39m: name 'is_probability_density_vector' is not defined"
     ]
    }
   ],
   "source": [
    "assert is_probability_density_vector(general_markov_transform_2d(0, 0) @ vecp)\n",
    "assert is_probability_density_vector(general_markov_transform_2d(1, 0) @ vecp)\n",
    "assert is_probability_density_vector(general_markov_transform_2d(0, 1) @ vecp)\n",
    "assert is_probability_density_vector(general_markov_transform_2d(0.5, 0.5) @ vecp)"
   ]
  },
  {
   "cell_type": "code",
   "execution_count": 29,
   "id": "d2ca1b61",
   "metadata": {
    "id": "d2ca1b61",
    "outputId": "858cdd9b-180a-44dd-da59-c5c29fd52fc7"
   },
   "outputs": [
    {
     "name": "stdout",
     "output_type": "stream",
     "text": [
      "L generates changes in time: \n",
      "[[-2.74676925  0.15061765]\n",
      " [ 2.74676925 -0.15061765]]\n",
      "vecp is a probability density vector\n"
     ]
    },
    {
     "ename": "NameError",
     "evalue": "name 'is_probability_density_vector' is not defined",
     "output_type": "error",
     "traceback": [
      "\u001b[31m---------------------------------------------------------------------------\u001b[39m",
      "\u001b[31mNameError\u001b[39m                                 Traceback (most recent call last)",
      "\u001b[36mCell\u001b[39m\u001b[36m \u001b[39m\u001b[32mIn[29]\u001b[39m\u001b[32m, line 18\u001b[39m\n\u001b[32m     15\u001b[39m t = \u001b[32m1.0\u001b[39m\n\u001b[32m     17\u001b[39m \u001b[38;5;28mprint\u001b[39m(\u001b[33mf\u001b[39m\u001b[33m\"\u001b[39m\u001b[33mvecp is a probability density vector\u001b[39m\u001b[33m\"\u001b[39m)\n\u001b[32m---> \u001b[39m\u001b[32m18\u001b[39m \u001b[38;5;28mprint\u001b[39m(is_probability_density_vector(vecp))\n\u001b[32m     20\u001b[39m \u001b[38;5;28mprint\u001b[39m(\u001b[33mf\u001b[39m\u001b[33m\"\u001b[39m\u001b[33mL generates changes in time on the right\u001b[39m\u001b[33m\"\u001b[39m)\n\u001b[32m     21\u001b[39m \u001b[38;5;28mprint\u001b[39m(is_probability_density_vector(expm(L * t) @ vecp))\n",
      "\u001b[31mNameError\u001b[39m: name 'is_probability_density_vector' is not defined"
     ]
    }
   ],
   "source": [
    "# M is a probability transition matrix\n",
    "# while W is a rate matrix i.e. W = M/dt\n",
    "\n",
    "W = np.abs(np.random.randn(2, 2))  # Wij nonzero, no other assumptions\n",
    "D = np.diag(np.sum(W, axis=0))  # sum along the row, then turn into diagonal matrix\n",
    "\n",
    "# Here axis=0 or axis=1 will change the stochastic matrix from left to right\n",
    "# Feel free to test this out\n",
    "\n",
    "L = W - D\n",
    "\n",
    "print(f\"L generates changes in time: \\n{L}\")\n",
    "\n",
    "# Students: Play with this value! Does it have to be positive?\n",
    "t = 1.0\n",
    "\n",
    "print(f\"vecp is a probability density vector\")\n",
    "print(is_probability_density_vector(vecp))\n",
    "\n",
    "print(f\"L generates changes in time on the right\")\n",
    "print(is_probability_density_vector(expm(L * t) @ vecp))\n",
    "\n",
    "print(f\"But not on the left\")\n",
    "print(is_probability_density_vector(vecp.T * expm(L * t)))\n",
    "\n",
    "print(f\"Its transpose doesn't work on the right\")\n",
    "print(is_probability_density_vector(expm(L.T * t) @ vecp))\n",
    "\n",
    "print(f\"But it does work on the left\")\n",
    "print(is_probability_density_vector((vecp.T) @ expm(L.T * t)))"
   ]
  },
  {
   "cell_type": "code",
   "execution_count": null,
   "id": "be880395",
   "metadata": {
    "id": "be880395"
   },
   "outputs": [],
   "source": []
  }
 ],
 "metadata": {
  "colab": {
   "provenance": []
  },
  "kernelspec": {
   "display_name": "phys75-env",
   "language": "python",
   "name": "python3"
  },
  "language_info": {
   "codemirror_mode": {
    "name": "ipython",
    "version": 3
   },
   "file_extension": ".py",
   "mimetype": "text/x-python",
   "name": "python",
   "nbconvert_exporter": "python",
   "pygments_lexer": "ipython3",
   "version": "3.13.2"
  }
 },
 "nbformat": 4,
 "nbformat_minor": 5
}
