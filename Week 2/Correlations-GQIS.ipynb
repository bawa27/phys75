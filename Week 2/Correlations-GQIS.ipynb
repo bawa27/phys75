{
 "cells": [
  {
   "cell_type": "markdown",
   "id": "636620a9",
   "metadata": {},
   "source": [
    "# Correlations\n",
    "**A companion notebook to \"Graduate Quantum Information Science\"**"
   ]
  },
  {
   "cell_type": "code",
   "execution_count": 1,
   "id": "0a10dccd",
   "metadata": {
    "tags": []
   },
   "outputs": [
    {
     "ename": "ModuleNotFoundError",
     "evalue": "No module named 'numpy'",
     "output_type": "error",
     "traceback": [
      "\u001b[1;31m---------------------------------------------------------------------------\u001b[0m",
      "\u001b[1;31mModuleNotFoundError\u001b[0m                       Traceback (most recent call last)",
      "Cell \u001b[1;32mIn[1], line 1\u001b[0m\n\u001b[1;32m----> 1\u001b[0m \u001b[38;5;28;01mimport\u001b[39;00m\u001b[38;5;250m \u001b[39m\u001b[38;5;21;01mnumpy\u001b[39;00m\u001b[38;5;250m \u001b[39m\u001b[38;5;28;01mas\u001b[39;00m\u001b[38;5;250m \u001b[39m\u001b[38;5;21;01mnp\u001b[39;00m\n\u001b[0;32m      2\u001b[0m \u001b[38;5;28;01mfrom\u001b[39;00m\u001b[38;5;250m \u001b[39m\u001b[38;5;21;01mnumpy\u001b[39;00m\u001b[38;5;21;01m.\u001b[39;00m\u001b[38;5;21;01mlinalg\u001b[39;00m\u001b[38;5;250m \u001b[39m\u001b[38;5;28;01mimport\u001b[39;00m svd \n\u001b[0;32m      4\u001b[0m np\u001b[38;5;241m.\u001b[39mset_printoptions(precision\u001b[38;5;241m=\u001b[39m\u001b[38;5;241m5\u001b[39m)\n",
      "\u001b[1;31mModuleNotFoundError\u001b[0m: No module named 'numpy'"
     ]
    }
   ],
   "source": [
    "import numpy as np\n",
    "from numpy.linalg import svd \n",
    "\n",
    "np.set_printoptions(precision=5)"
   ]
  },
  {
   "cell_type": "markdown",
   "id": "8804eadb",
   "metadata": {
    "jp-MarkdownHeadingCollapsed": true,
    "tags": []
   },
   "source": [
    "This notebook is meant to illustrate the concepts from \"Graduate Quantum Information Science\" concerning measures of two-bit and two-qubit correlations. The approach here mirrors the probability first approach of the \"Graduate Quantum Information Science\" textbook.\n",
    "\n",
    "We consider seven examples of two-bit probability distributions, two unentangled states, and five two-qubit entangling gates. All of these combination can be explored using the widgets at the end.\n",
    "\n",
    "### Table of contents\n",
    "* [Correlations in probability density vectors](#corr)\n",
    "    * [Functions for evaluating correlations](#infofuncs)\n",
    "    * [Examples of correlated probability density vectors](#pdv_examples)\n",
    "* [Correlations in probability density matrices](#qcorr)\n",
    "    * [Functions for evaluating quantum correlations](#qinfofuncs)\n",
    "    * [Examples of unentangled probability density matrices](#pdm_examples)\n",
    "    * [Examples of entangling operations](#gates)\n",
    "* [Widgets](#widget)\n"
   ]
  },
  {
   "cell_type": "markdown",
   "id": "e6b7abb5",
   "metadata": {
    "tags": []
   },
   "source": [
    "# Correlations in Probability Density Vectors <a class=\"anchor\" id=\"corr\"></a>"
   ]
  },
  {
   "cell_type": "markdown",
   "id": "eb753cfc",
   "metadata": {},
   "source": [
    "## Functions for evaluating correlations <a class=\"anchor\" id=\"infofuncs\"></a>"
   ]
  },
  {
   "cell_type": "code",
   "execution_count": 3,
   "id": "89b1b8b7",
   "metadata": {
    "tags": []
   },
   "outputs": [],
   "source": [
    "#helper functions\n",
    "from scipy.linalg import logm\n",
    "def log2m(A):\n",
    "    \"\"\"Compute matrix logarithm base 2\"\"\"\n",
    "    return np.log2(np.exp(1)) * logm(A)\n",
    "\n",
    "#relative entropy\n",
    "'''def KL_alt(p, q):\n",
    "    \"\"\"relative entropy of p wrt q\"\"\"\n",
    "    p = np.matrix(p)\n",
    "    \n",
    "  \n",
    "    a = np.asarray(p, dtype=float)+np.finfo(np.float64).eps\n",
    "    b = np.asarray(q, dtype=float)+np.finfo(np.float64).eps\n",
    "\n",
    "    return np.sum(np.where(a != 0, a * np.log2(a / b), 0))\n",
    "'''\n",
    "\n",
    "def KL(a, b):\n",
    "    \"\"\"relative entropy of a wrt b\"\"\"\n",
    " \n",
    "    a = np.matrix(a)\n",
    "    b = np.matrix(b)\n",
    "\n",
    "    if min(a.shape)==1 and min(b.shape)==1:\n",
    "        A = np.diagflat(a)\n",
    "        B = np.diagflat(b)\n",
    "    else:\n",
    "        A = a\n",
    "        B = b\n",
    "            \n",
    "    return np.trace( A @ log2m(A) ) - np.trace( A @ log2m (B) )\n",
    "\n",
    "\n",
    "\n",
    "def correlations(T):\n",
    "    \"\"\"Compute correlations for the coefficents of the two variable probability density vector\"\"\"\n",
    "    V, Sigma, W = svd(T, full_matrices=True)\n",
    "\n",
    "\n",
    "\n",
    "    pA = [T[0,0] + T[0,1], T[1,0]  + T[1,1]]\n",
    "    pB = [T[0,0] + T[1,0], T[0,1]  + T[1,1]]\n",
    "\n",
    "    S_A=0\n",
    "    for p in pA:\n",
    "        if abs(p)>1e-9:\n",
    "            S_A += -p*np.log2(p) \n",
    "\n",
    "    S_B=0\n",
    "    for p in pB:\n",
    "        if abs(p)>1e-9:\n",
    "            S_B += -p*np.log2(p)\n",
    "\n",
    "    S_AB=0\n",
    "    for l in T.flatten().tolist()[0]:\n",
    "        if abs(l)>1e-9:\n",
    "            S_AB+= -l*np.log2(l)\n",
    "\n",
    "    #correlation measures\n",
    "    I = S_A + S_B - S_AB\n",
    "    S_A_given_B = S_AB - S_B\n",
    "    S_B_given_A = S_AB - S_A\n",
    "\n",
    "    print(\"Entropy pA\\t\\t\\t{0:.5f}\".format(S_A))\n",
    "    print(\"Entropy pB\\t\\t\\t{0:.5f}\".format(S_B))\n",
    "    print(\"Entropy pAB\\t\\t\\t{0:.5f}\".format(S_AB))   \n",
    "    print(\"Entropy of A given B\\t\\t{0:.5f}\".format(S_A_given_B))\n",
    "    print(\"Entropy of B given A\\t\\t{0:.5f}\".format(S_B_given_A))\n",
    "    print(\"\")    \n",
    "    print(\"Mutual information I(A:B)\\t{0:.5f}\".format(I))\n",
    "    print(\"D(pAB||pA x pB)  \\t\\t{0:.5f}\".format(KL(T.flatten(),np.kron(pA,pB)) ))\n",
    "    #print(\"D_2(pAB||pA x pB)  \\t\\t{0:.5f}\".format(KL_alt(T.flatten(),np.kron(pA,pB)) ))\n",
    "    print(\"Singular values\\t\\t\\t\",Sigma)\n",
    "\n"
   ]
  },
  {
   "cell_type": "markdown",
   "id": "97d8a101",
   "metadata": {},
   "source": [
    "# Examples of correlated probability density vectors <a class=\"anchor\" id=\"pdv_examples\"></a>"
   ]
  },
  {
   "cell_type": "markdown",
   "id": "e5c6dcbd",
   "metadata": {},
   "source": [
    "## Example from \"Graduate Quantum Information Science\" "
   ]
  },
  {
   "cell_type": "code",
   "execution_count": 4,
   "id": "fc685a3d",
   "metadata": {
    "tags": []
   },
   "outputs": [
    {
     "name": "stdout",
     "output_type": "stream",
     "text": [
      "Joint pAB\n",
      "[[0.4   0.075]\n",
      " [0.15  0.375]]\n",
      "\n",
      "\n",
      "Marginal pA\n",
      "[[0.475]\n",
      " [0.525]]\n",
      "\n",
      "\n",
      "Marginal pB\n",
      "[[0.55 0.45]]\n",
      "\n",
      "\n",
      "Entropy pA\t\t\t0.99820\n",
      "Entropy pB\t\t\t0.99277\n",
      "Entropy pAB\t\t\t1.75023\n",
      "Entropy of A given B\t\t0.75745\n",
      "Entropy of B given A\t\t0.75203\n",
      "\n",
      "Mutual information I(A:B)\t0.24074\n",
      "D(pAB||pA x pB)  \t\t0.24074\n",
      "Singular values\t\t\t [0.5025  0.27612]\n",
      "\n",
      "\n",
      "\n"
     ]
    }
   ],
   "source": [
    "T=np.matrix([[16/40.,  3/40.],  # [Red_Cube Red_Sphere]\n",
    "             [ 6/40., 15/40.]]) # [BlueCube BlueSphere]  \n",
    "\n",
    "pA = np.matrix([[T[0,0] + T[0,1]],  # [Red]  19/40\n",
    "                [T[1,0] + T[1,1]]]) # [Blue] 21/40\n",
    "\n",
    "pB = np.matrix([T[0,0] \n",
    "              + T[1,0],         #  [Cube] (22/40)\n",
    "                       T[0,1] \n",
    "                     + T[1,1]]) #  [Sphere] (18/40)\n",
    "\n",
    "print(\"Joint pAB\")\n",
    "print(T)\n",
    "print(\"\\n\")\n",
    "print(\"Marginal pA\")\n",
    "print(pA)\n",
    "print(\"\\n\")\n",
    "print(\"Marginal pB\")\n",
    "print(pB)\n",
    "print(\"\\n\")\n",
    "correlations(T)\n",
    "print(\"\\n\\n\")"
   ]
  },
  {
   "cell_type": "markdown",
   "id": "5e1e9abf",
   "metadata": {},
   "source": [
    "Note that $p_A$ is slightly closer to uniform than $p_B$. Consequently, the entropy $S(A)$ is slightly greater than $S(B)$."
   ]
  },
  {
   "cell_type": "markdown",
   "id": "0d4c7ce1",
   "metadata": {},
   "source": [
    "## No blue cubes"
   ]
  },
  {
   "cell_type": "code",
   "execution_count": 5,
   "id": "397cb1d6",
   "metadata": {
    "tags": []
   },
   "outputs": [
    {
     "name": "stdout",
     "output_type": "stream",
     "text": [
      "[[0.33333 0.33333]\n",
      " [0.      0.33333]]\n",
      "Entropy pA\t\t\t0.91830\n",
      "Entropy pB\t\t\t0.91830\n",
      "Entropy pAB\t\t\t1.58496\n",
      "Entropy of A given B\t\t0.66667\n",
      "Entropy of B given A\t\t0.66667\n",
      "\n",
      "Mutual information I(A:B)\t0.25163\n",
      "D(pAB||pA x pB)  \t\t0.25163\n",
      "Singular values\t\t\t [0.53934 0.20601]\n",
      "\n",
      "\n",
      "\n"
     ]
    },
    {
     "name": "stderr",
     "output_type": "stream",
     "text": [
      "/opt/.qbraid/environments/qbraid_000000/pyenv/lib/python3.11/site-packages/scipy/linalg/_matfuncs.py:204: LogmExactlySingularWarning: The logm input matrix is exactly singular.\n",
      "  F = scipy.linalg._matfuncs_inv_ssq._logm(A)\n"
     ]
    }
   ],
   "source": [
    "T2=np.matrix([[1/3.,1/3.],  # [Red_Cube Red_Sphere]\n",
    "              [  0 ,1/3.]]) # [BlueCube BlueSphere] \n",
    "print(T2)\n",
    "correlations(T2)\n",
    "print(\"\\n\\n\")"
   ]
  },
  {
   "cell_type": "markdown",
   "id": "a1fe7202",
   "metadata": {},
   "source": [
    "Note 1) that the entropy of the marginal is equal to the binary entropy of a bais coin with a 1/3 to 2/3 bias and 2) the entropy of the join distribution is log $3$  since there are 3 equally probable outcomes. Observe:"
   ]
  },
  {
   "cell_type": "code",
   "execution_count": 6,
   "id": "d72d1b2d",
   "metadata": {
    "tags": []
   },
   "outputs": [
    {
     "name": "stdout",
     "output_type": "stream",
     "text": [
      "entropy with 1/3 bias:\t 0.9182958340544896\n",
      "log(W) for W=3:\t\t 1.584962500721156\n"
     ]
    }
   ],
   "source": [
    "S=-(2/3)*np.log2(2/3)-(1/3)*np.log2(1/3)\n",
    "print(\"entropy with 1/3 bias:\\t\",S)\n",
    "\n",
    "print(\"log(W) for W=3:\\t\\t\",np.log2(3))"
   ]
  },
  {
   "cell_type": "markdown",
   "id": "b2cf5659",
   "metadata": {},
   "source": [
    "## Uniform distribution"
   ]
  },
  {
   "cell_type": "code",
   "execution_count": 7,
   "id": "ce4d97d6",
   "metadata": {
    "tags": []
   },
   "outputs": [
    {
     "name": "stdout",
     "output_type": "stream",
     "text": [
      "[[0.25 0.25]\n",
      " [0.25 0.25]]\n",
      "Entropy pA\t\t\t1.00000\n",
      "Entropy pB\t\t\t1.00000\n",
      "Entropy pAB\t\t\t2.00000\n",
      "Entropy of A given B\t\t1.00000\n",
      "Entropy of B given A\t\t1.00000\n",
      "\n",
      "Mutual information I(A:B)\t0.00000\n",
      "D(pAB||pA x pB)  \t\t0.00000\n",
      "Singular values\t\t\t [5.00000e-01 8.38676e-18]\n",
      "\n",
      "\n",
      "\n"
     ]
    }
   ],
   "source": [
    "T3=np.matrix([[1/4.,1/4.],[1/4.,1/4.]])\n",
    "print(T3)\n",
    "correlations(T3)\n",
    "print(\"\\n\\n\")"
   ]
  },
  {
   "cell_type": "markdown",
   "id": "a4cad636",
   "metadata": {},
   "source": [
    "Notice that the two properties of color and shape are independent in this case. Thus, the entropy of the joint system is the sum of the entropies of the individual systems. The zero mutual information also says that B contains no information about A.\n",
    "\n",
    "Also notice that the singular values indicate that one of the basis states can be removed without lost. "
   ]
  },
  {
   "cell_type": "markdown",
   "id": "05f9021f",
   "metadata": {},
   "source": [
    "## Half red cubes and half blue spheres"
   ]
  },
  {
   "cell_type": "code",
   "execution_count": 8,
   "id": "8b303204",
   "metadata": {
    "tags": []
   },
   "outputs": [
    {
     "name": "stdout",
     "output_type": "stream",
     "text": [
      "[[0.5 0. ]\n",
      " [0.  0.5]]\n",
      "Entropy pA\t\t\t1.00000\n",
      "Entropy pB\t\t\t1.00000\n",
      "Entropy pAB\t\t\t1.00000\n",
      "Entropy of A given B\t\t0.00000\n",
      "Entropy of B given A\t\t0.00000\n",
      "\n",
      "Mutual information I(A:B)\t1.00000\n",
      "D(pAB||pA x pB)  \t\t1.00000\n",
      "Singular values\t\t\t [0.5 0.5]\n",
      "\n",
      "\n",
      "\n"
     ]
    }
   ],
   "source": [
    "T4=np.matrix([[1/2.,0],[0,1/2.]])\n",
    "print(T4)\n",
    "correlations(T4)\n",
    "print(\"\\n\\n\")"
   ]
  },
  {
   "cell_type": "markdown",
   "id": "928f77ee",
   "metadata": {},
   "source": [
    "Notice, in this case, there are only two types of items. If the item is blue then it is a sphere and if it is a cube it is red. Hence, S(A) = S(B) = S(AB). But then there is no conditional entropy: if you are given A then you know B exactly. \n",
    "\n",
    "If you observe A then you gain all the information about B. This is reflected in the mutual information value equal to one bit."
   ]
  },
  {
   "cell_type": "markdown",
   "id": "b80e9d1b",
   "metadata": {},
   "source": [
    "## All red cubes"
   ]
  },
  {
   "cell_type": "code",
   "execution_count": 9,
   "id": "9503f2a4",
   "metadata": {
    "tags": []
   },
   "outputs": [
    {
     "name": "stdout",
     "output_type": "stream",
     "text": [
      "[[1 0]\n",
      " [0 0]]\n",
      "Entropy pA\t\t\t0.00000\n",
      "Entropy pB\t\t\t0.00000\n",
      "Entropy pAB\t\t\t0.00000\n",
      "Entropy of A given B\t\t0.00000\n",
      "Entropy of B given A\t\t0.00000\n",
      "\n",
      "Mutual information I(A:B)\t0.00000\n",
      "D(pAB||pA x pB)  \t\t0.00000\n",
      "Singular values\t\t\t [1. 0.]\n",
      "\n",
      "\n",
      "\n"
     ]
    }
   ],
   "source": [
    "T5=np.matrix([[1,0],[0,0]])\n",
    "print(T5)\n",
    "correlations(T5)\n",
    "print(\"\\n\\n\")"
   ]
  },
  {
   "cell_type": "markdown",
   "id": "bc9fcc53",
   "metadata": {},
   "source": [
    "This is the trivial case. The entropies are all zero, and one of the singular values is as well."
   ]
  },
  {
   "cell_type": "markdown",
   "id": "a82e550d",
   "metadata": {},
   "source": [
    "## All cubes; half red and half blue"
   ]
  },
  {
   "cell_type": "code",
   "execution_count": 10,
   "id": "0661e62c",
   "metadata": {
    "tags": []
   },
   "outputs": [
    {
     "name": "stdout",
     "output_type": "stream",
     "text": [
      "[[0.5 0. ]\n",
      " [0.5 0. ]]\n",
      "Entropy pA\t\t\t1.00000\n",
      "Entropy pB\t\t\t0.00000\n",
      "Entropy pAB\t\t\t1.00000\n",
      "Entropy of A given B\t\t1.00000\n",
      "Entropy of B given A\t\t0.00000\n",
      "\n",
      "Mutual information I(A:B)\t0.00000\n",
      "D(pAB||pA x pB)  \t\t0.00000\n",
      "Singular values\t\t\t [0.70711 0.     ]\n",
      "\n",
      "\n",
      "\n"
     ]
    }
   ],
   "source": [
    "T6=np.matrix([[1/2.,0],[1/2.,0]])\n",
    "print(T6)\n",
    "correlations(T6)\n",
    "print(\"\\n\\n\")"
   ]
  },
  {
   "cell_type": "markdown",
   "id": "a9a3570e",
   "metadata": {},
   "source": [
    "The entropy of A given B is the full entropy of $p_{AB}$. This is because B contains no information since there are no spheres. Note the separability implied by the zero singular value."
   ]
  },
  {
   "cell_type": "markdown",
   "id": "c62c1d5d",
   "metadata": {},
   "source": [
    "## All red; half spheres, half cubes"
   ]
  },
  {
   "cell_type": "code",
   "execution_count": 11,
   "id": "8d242317",
   "metadata": {
    "tags": []
   },
   "outputs": [
    {
     "name": "stdout",
     "output_type": "stream",
     "text": [
      "[[0.5 0.5]\n",
      " [0.  0. ]]\n",
      "Entropy pA\t\t\t0.00000\n",
      "Entropy pB\t\t\t1.00000\n",
      "Entropy pAB\t\t\t1.00000\n",
      "Entropy of A given B\t\t0.00000\n",
      "Entropy of B given A\t\t1.00000\n",
      "\n",
      "Mutual information I(A:B)\t0.00000\n",
      "D(pAB||pA x pB)  \t\t0.00000\n",
      "Singular values\t\t\t [0.70711 0.     ]\n",
      "\n",
      "\n",
      "\n"
     ]
    }
   ],
   "source": [
    "T7=np.matrix([[1/2.,1/2.],[0,0]])\n",
    "print(T7)\n",
    "correlations(T7)\n",
    "print(\"\\n\\n\")"
   ]
  },
  {
   "cell_type": "markdown",
   "id": "dc162284",
   "metadata": {},
   "source": [
    "The entropy of B given A is the full entropy of $p_{AB}$. This is because A contains no information since there is no blue. Note the separability implied by the zero singular value."
   ]
  },
  {
   "cell_type": "markdown",
   "id": "41056498",
   "metadata": {
    "tags": []
   },
   "source": [
    "# Correlations in Quantum Probability Density Matrices <a class=\"anchor\" id=\"qcorr\"></a>"
   ]
  },
  {
   "cell_type": "markdown",
   "id": "89ffc19b",
   "metadata": {},
   "source": [
    "## Functions for evaluating quantum correlations <a class=\"anchor\" id=\"qinfofuncs\"></a>"
   ]
  },
  {
   "cell_type": "code",
   "execution_count": 12,
   "id": "a115b1a2",
   "metadata": {
    "tags": []
   },
   "outputs": [],
   "source": [
    "def partial_trace(r12,index_to_remove):\n",
    "    \"\"\"performs the partial trace of rho12 over subspace 1 or 2.\n",
    "    \n",
    "    Inputs: \n",
    "        rho12             density matrix\n",
    "        index_to_remove   either zero or one\n",
    "    \"\"\"\n",
    "    \n",
    "    r0 = [ [ r12[0,0] + r12[1,1], r12[0,2] + r12[1,3] ] , [ r12[2,0] + r12[3,1], r12[2,2] + r12[3,3] ]]\n",
    "    r1 = [ [ r12[0,0] + r12[2,2], r12[0,1] + r12[2,3] ] , [ r12[1,0] + r12[3,2], r12[1,1] + r12[3,3] ]]\n",
    "    \n",
    "    if index_to_remove == 0:\n",
    "        return r1\n",
    "    else:\n",
    "        return r0\n",
    "    \n",
    "def partial_trace2(r12,index_to_remove):\n",
    "    \"\"\"performs the partial trace of rho12 over subspace 1 or 2.\n",
    "    \n",
    "    Inputs: \n",
    "        rho12             density matrix\n",
    "        index_to_remove   either zero or one\n",
    "    \"\"\"\n",
    "    X = np.matrix([[0,1],[1,0]])\n",
    "    Y = np.matrix([[0,1j],[-1j,0]])\n",
    "    Z = np.matrix([[1,0],[0,-1]])\n",
    "    I = np.eye(2)\n",
    "    \n",
    "    if index_to_remove == 0:\n",
    "        A = np.kron(I,X)\n",
    "        B = np.kron(I,Y)\n",
    "        C = np.kron(I,Z)\n",
    "    else:\n",
    "        A = np.kron(X,I)\n",
    "        B = np.kron(Y,I)\n",
    "        C = np.kron(Z,I)\n",
    "    \n",
    "    #get bias vector\n",
    "    r = [np.trace(r12@A), np.trace(r12@B) , np.trace(r12@C)]\n",
    "        \n",
    "    return np.matrix( .5* (np.eye(2) +sum(i[0] * i[1] for i in zip(r,[X,Y,Z]))))\n",
    "\n",
    "\n",
    "def correlations_qm(rhoAB,verbose=False):\n",
    "    \"\"\"Compute correlations for the coefficents of the two variable probability density vector\"\"\"\n",
    "    \n",
    "    rhoA = np.matrix(partial_trace(rhoAB,1))\n",
    "\n",
    "    rhoB = np.matrix(partial_trace(rhoAB,0))\n",
    "    \n",
    "    if(verbose):\n",
    "        print(\"rhoA\")\n",
    "        print(rhoA)\n",
    "        print(\"rhoB\")\n",
    "        print(rhoB)\n",
    "    \n",
    "    S_A = -1 * np.trace(rhoA @ log2m(rhoA))\n",
    "    S_B = -1 * np.trace(rhoB @ log2m(rhoB))\n",
    "    \n",
    "    S_AB= -1 * np.trace(rhoAB @ log2m(rhoAB))\n",
    "\n",
    "    #correlation measures\n",
    "    I = S_A + S_B - S_AB\n",
    "    S_A_given_B = S_AB - S_B\n",
    "    S_B_given_A = S_AB - S_A\n",
    "\n",
    "    print(\"Entropy rhoA\\t\\t\\t{0:.5f}\".format(S_A))\n",
    "    print(\"Entropy rhoB\\t\\t\\t{0:.5f}\".format(S_B))\n",
    "    print(\"Entropy rhoAB\\t\\t\\t{0:.5f}\".format(S_AB))   \n",
    "    print(\"Entropy of A given B\\t\\t{0:.5f}\".format(S_A_given_B))\n",
    "    print(\"Entropy of B given A\\t\\t{0:.5f}\".format(S_B_given_A))\n",
    "    print(\"\")    \n",
    "    print(\"Mutual information I(A:B)\\t{0:.5f}\".format(I))\n",
    "    print(\"D(rhoAB||rhoA (x) rhoB)\\t\\t{0:.5f}\".format(KL(rhoAB,np.kron(rhoA,rhoB))))\n",
    "\n"
   ]
  },
  {
   "cell_type": "markdown",
   "id": "09a53a5f",
   "metadata": {},
   "source": [
    "**Advanced exercise:** Provide a computation of the singular values for $\\rho_{AB}$ in `correlations_qm`. You should check that your answers align for lifted probability density vectors using the `correlations` code."
   ]
  },
  {
   "cell_type": "markdown",
   "id": "85da40e8",
   "metadata": {},
   "source": [
    "## Examples of unentangled probability density matrices <a class=\"anchor\" id=\"pdm_examples\"></a>"
   ]
  },
  {
   "cell_type": "markdown",
   "id": "34400545",
   "metadata": {},
   "source": [
    "In the next cell, we create two ansatz. In both cases, we will create an unentangled state with the same marginals as in the textbook example. In the first of these ansatz, the local qubit states are pure and line within the $x=y$ plane and have $z$ value that matches the given bias. In the second ansatz, the local qubit states are mixed with non-zero $z$ component matching the given bias."
   ]
  },
  {
   "cell_type": "code",
   "execution_count": 13,
   "id": "77e5bd0a",
   "metadata": {
    "tags": []
   },
   "outputs": [
    {
     "name": "stdout",
     "output_type": "stream",
     "text": [
      "joint pdv\n",
      "pAB= [[0.4   0.075 0.15  0.375]]\n",
      "\n",
      "marginal pdv's\n",
      "pA= [[0.475 0.525]]\n",
      "pB= [[0.55 0.45]]\n",
      "\n",
      "marginal pdm\n",
      "rhoA=\n",
      " [[0.4875 +0.j      0.35344+0.35344j]\n",
      " [0.35344-0.35344j 0.5125 +0.j     ]]\n",
      "rhoB=\n",
      " [[0.525  +0.j      0.35311+0.35311j]\n",
      " [0.35311-0.35311j 0.475  +0.j     ]]\n",
      "\n",
      "rhoA \\otimes rhoB=\n",
      "[[ 2.55938e-01+0.00000e+00j  1.72142e-01+1.72142e-01j\n",
      "   1.85558e-01+1.85558e-01j -3.52382e-19+2.49609e-01j]\n",
      " [ 1.72142e-01-1.72142e-01j  2.31563e-01+0.00000e+00j\n",
      "   2.49609e-01+3.52382e-19j  1.67885e-01+1.67885e-01j]\n",
      " [ 1.85558e-01-1.85558e-01j  2.49609e-01-3.52382e-19j\n",
      "   2.69062e-01+0.00000e+00j  1.80969e-01+1.80969e-01j]\n",
      " [-3.52382e-19-2.49609e-01j  1.67885e-01-1.67885e-01j\n",
      "   1.80969e-01-1.80969e-01j  2.43437e-01+0.00000e+00j]]\n"
     ]
    }
   ],
   "source": [
    "#\n",
    "#\n",
    "#Pure state decorrelated probability density matrices\n",
    "#\n",
    "#\n",
    "\n",
    "T=np.matrix([[16/40.,3/40.],[6/40.,15/40.]])\n",
    "print(\"joint pdv\")\n",
    "print(\"pAB=\",T.flatten())\n",
    "print()\n",
    "\n",
    "\n",
    "#marginals\n",
    "pA = np.matrix([T[0,0] + T[0,1], T[1,0]  + T[1,1]])\n",
    "pB = np.matrix([T[0,0] + T[1,0], T[0,1]  + T[1,1]])\n",
    "print(\"marginal pdv's\")\n",
    "print(\"pA=\",pA)\n",
    "print(\"pB=\",pB)\n",
    "\n",
    "#bais\n",
    "bA= pA[0,0]-.5\n",
    "bB= pB[0,0]-.5\n",
    "\n",
    "#qubit bais parameters (pure states lying in the x=y plane)\n",
    "s=np.sqrt(.5*(1-(bA*bA)))\n",
    "rA= [s,s,bA]\n",
    "\n",
    "t=np.sqrt(.5*(1-(bB*bB)))\n",
    "rB= [t,t,bB]\n",
    "\n",
    "X = np.matrix([[0,1],[1,0]])\n",
    "Y = np.matrix([[0,1j],[-1j,0]])\n",
    "Z = np.matrix([[1,0],[0,-1]])\n",
    "\n",
    "rhoA = .5* (np.eye(2) +sum(i[0] * i[1] for i in zip(rA,[X,Y,Z])))\n",
    "rhoB = .5* (np.eye(2) +sum(i[0] * i[1] for i in zip(rB,[X,Y,Z])))\n",
    "\n",
    "print(\"\")\n",
    "print(\"marginal pdm\")\n",
    "print(\"rhoA=\\n\",rhoA)\n",
    "print(\"rhoB=\\n\",rhoB)\n",
    "\n",
    "print(\"\")\n",
    "print(\"rhoA \\otimes rhoB=\")\n",
    "print(np.kron(rhoA,rhoB))\n",
    "rho12_pure=np.kron(rhoA,rhoB)\n",
    "\n",
    "#the marginals should the same as the original\n",
    "assert(np.allclose(np.matrix(partial_trace(rho12_pure,1)),rhoA))\n",
    "assert(np.allclose(np.matrix(partial_trace(rho12_pure,0)),rhoB))"
   ]
  },
  {
   "cell_type": "code",
   "execution_count": 14,
   "id": "5e067c9c",
   "metadata": {
    "tags": []
   },
   "outputs": [
    {
     "name": "stdout",
     "output_type": "stream",
     "text": [
      "joint pdv\n",
      "pAB= [[0.4   0.075 0.15  0.375]]\n",
      "marginal pdv\n",
      "[[0.475 0.525]]\n",
      "[[0.55 0.45]]\n",
      "\n",
      "marginal pdm\n",
      "[[0.4875+0.j 0.    +0.j]\n",
      " [0.    +0.j 0.5125+0.j]]\n",
      "[[0.525+0.j 0.   +0.j]\n",
      " [0.   +0.j 0.475+0.j]]\n",
      "\n",
      "rhoA \\otimes rhoB=\n",
      "[[0.25594+0.j 0.     +0.j 0.     +0.j 0.     +0.j]\n",
      " [0.     +0.j 0.23156+0.j 0.     +0.j 0.     +0.j]\n",
      " [0.     +0.j 0.     +0.j 0.26906+0.j 0.     +0.j]\n",
      " [0.     +0.j 0.     +0.j 0.     +0.j 0.24344+0.j]]\n"
     ]
    }
   ],
   "source": [
    "#\n",
    "#\n",
    "#Mixed state decorrelated probability density matrices\n",
    "#\n",
    "#\n",
    "\n",
    "T=np.matrix([[16/40.,3/40.],[6/40.,15/40.]])\n",
    "print(\"joint pdv\")\n",
    "print(\"pAB=\",T.flatten())\n",
    "\n",
    "#marginals\n",
    "print(\"marginal pdv\")\n",
    "print(pA)\n",
    "print(pB)\n",
    "\n",
    "#bais\n",
    "bA= pA[0,0]-.5\n",
    "bB= pB[0,0]-.5\n",
    "\n",
    "#qubit bais parameters (mixed state, z-axis)\n",
    "rA= [0,0,bA]\n",
    "rB= [0,0,bB]\n",
    "\n",
    "X = np.matrix([[0,1],[1,0]])\n",
    "Y = np.matrix([[0,1j],[-1j,0]])\n",
    "Z = np.matrix([[1,0],[0,-1]])\n",
    "\n",
    "rhoA = np.matrix(.5* (np.eye(2) +sum( i[0] * i[1] for i in zip(rA,[X,Y,Z]))))\n",
    "rhoB = np.matrix(.5* (np.eye(2) +sum( i[0] * i[1] for i in zip(rB,[X,Y,Z]))))\n",
    "\n",
    "print(\"\")\n",
    "print(\"marginal pdm\")\n",
    "print(rhoA)\n",
    "print(rhoB)\n",
    "\n",
    "\n",
    "print(\"\")\n",
    "print(\"rhoA \\otimes rhoB=\")\n",
    "print(np.kron(rhoA,rhoB))\n",
    "\n",
    "rho12_mixed = np.kron(rhoA,rhoB)\n",
    "\n",
    "#the marginals should the same as the original\n",
    "assert(np.allclose(np.matrix(partial_trace(rho12_mixed,1)),rhoA))\n",
    "assert(np.allclose(np.matrix(partial_trace(rho12_mixed,0)),rhoB))\n"
   ]
  },
  {
   "cell_type": "markdown",
   "id": "0bc33a88",
   "metadata": {},
   "source": [
    "## Examples of entangling gates <a class=\"anchor\" id=\"gates\"></a>\n",
    "\n",
    "We can mix the two states with different entangling unitary gates given in matrix form."
   ]
  },
  {
   "cell_type": "markdown",
   "id": "2dd1d0a2",
   "metadata": {},
   "source": [
    "1. Identity transform"
   ]
  },
  {
   "cell_type": "code",
   "execution_count": 15,
   "id": "6fa4efb0",
   "metadata": {
    "tags": []
   },
   "outputs": [
    {
     "name": "stdout",
     "output_type": "stream",
     "text": [
      "[[1 0 0 0]\n",
      " [0 1 0 0]\n",
      " [0 0 1 0]\n",
      " [0 0 0 1]]\n"
     ]
    }
   ],
   "source": [
    "#identity\n",
    "U12_id = np.matrix([[1, 0, 0, 0] , [ 0, 1, 0, 0], [0, 0, 1, 0], [0, 0, 0, 1]])\n",
    "print(U12_id)"
   ]
  },
  {
   "cell_type": "markdown",
   "id": "cc2dcd5e",
   "metadata": {},
   "source": [
    "2. Spin coupling"
   ]
  },
  {
   "cell_type": "code",
   "execution_count": 16,
   "id": "97e7772f",
   "metadata": {
    "tags": []
   },
   "outputs": [],
   "source": [
    "#singlet-triplet\n",
    "s=1/np.sqrt(2)\n",
    "U12_spin = np.matrix([[1, 0, 0, 0] , [ 0, s, s, 0], [0, s,-s, 0], [0, 0, 0, 1]])"
   ]
  },
  {
   "cell_type": "markdown",
   "id": "067c6523",
   "metadata": {},
   "source": [
    "3. CNOT gate"
   ]
  },
  {
   "cell_type": "code",
   "execution_count": 17,
   "id": "f60c60e2",
   "metadata": {
    "tags": []
   },
   "outputs": [],
   "source": [
    "#CNOT\n",
    "U12_cnot = np.matrix([[1, 0, 0, 0] , [ 0, 1, 0, 0], [0, 0, 0, 1], [0, 0, 1, 0]])"
   ]
  },
  {
   "cell_type": "markdown",
   "id": "274104e8",
   "metadata": {},
   "source": [
    "4. CZ (controlled-Z) gate"
   ]
  },
  {
   "cell_type": "code",
   "execution_count": 18,
   "id": "ea0d350e",
   "metadata": {
    "tags": []
   },
   "outputs": [],
   "source": [
    "#CZ\n",
    "U12_cz = np.matrix([[1, 0, 0, 0] , [ 0, 1, 0, 0], [0, 0, 1, 0], [0, 0, 0,-1]])"
   ]
  },
  {
   "cell_type": "markdown",
   "id": "30a5f632",
   "metadata": {},
   "source": [
    "5. Bell state transformation"
   ]
  },
  {
   "cell_type": "code",
   "execution_count": 19,
   "id": "8d5140f2",
   "metadata": {
    "tags": []
   },
   "outputs": [],
   "source": [
    "#Bell\n",
    "s=1/np.sqrt(2)\n",
    "U12_bell = s* np.matrix([[1, 0, 0, 1] , [ 0, 1, 1, 0], [0, 1,-1, 0], [1, 0, 0,-1]])"
   ]
  },
  {
   "cell_type": "markdown",
   "id": "33f491bc",
   "metadata": {},
   "source": [
    "**Exercise:** Try implementing $U_{12}$ equal to a Haar random 4x4 unitary.  \n",
    "**Exercise:** Try using $U_{12}=R_n(\\theta) \\otimes R_m(\\phi)$"
   ]
  },
  {
   "cell_type": "markdown",
   "id": "5ab86f43",
   "metadata": {},
   "source": [
    "# Widgets <a class=\"anchor\" id=\"widget\"><a/>\n",
    "We summarize our findings and examples using two widget that allow you start from either the unentangled ansatze or from the lifted probability density vectors."
   ]
  },
  {
   "cell_type": "code",
   "execution_count": 20,
   "id": "9fba1231",
   "metadata": {
    "scrolled": true,
    "tags": []
   },
   "outputs": [],
   "source": [
    "#!pip install ipywidgets\n",
    "#!conda install ipywidgets"
   ]
  },
  {
   "cell_type": "markdown",
   "id": "a3c0d4be",
   "metadata": {},
   "source": [
    "## Correlation widget for unentangled ansatze"
   ]
  },
  {
   "cell_type": "code",
   "execution_count": 21,
   "id": "7a5aa541-8466-485a-bd24-8807721949d9",
   "metadata": {
    "tags": []
   },
   "outputs": [
    {
     "ename": "ModuleNotFoundError",
     "evalue": "No module named 'ipywidgets'",
     "output_type": "error",
     "traceback": [
      "\u001b[0;31m---------------------------------------------------------------------------\u001b[0m",
      "\u001b[0;31mModuleNotFoundError\u001b[0m                       Traceback (most recent call last)",
      "Cell \u001b[0;32mIn[21], line 1\u001b[0m\n\u001b[0;32m----> 1\u001b[0m \u001b[38;5;28;01mfrom\u001b[39;00m \u001b[38;5;21;01mipywidgets\u001b[39;00m \u001b[38;5;28;01mimport\u001b[39;00m widgets\n",
      "\u001b[0;31mModuleNotFoundError\u001b[0m: No module named 'ipywidgets'"
     ]
    }
   ],
   "source": [
    "from ipywidgets import widgets"
   ]
  },
  {
   "cell_type": "code",
   "execution_count": 1,
   "id": "03084f34-ab60-47e3-ba95-b5327a1caf5b",
   "metadata": {
    "tags": []
   },
   "outputs": [
    {
     "data": {
      "text/plain": [
       "6"
      ]
     },
     "execution_count": 1,
     "metadata": {},
     "output_type": "execute_result"
    }
   ],
   "source": [
    "3+3"
   ]
  },
  {
   "cell_type": "code",
   "execution_count": 22,
   "id": "ae6acacf",
   "metadata": {
    "tags": []
   },
   "outputs": [
    {
     "ename": "ModuleNotFoundError",
     "evalue": "No module named 'ipywidgets'",
     "output_type": "error",
     "traceback": [
      "\u001b[0;31m---------------------------------------------------------------------------\u001b[0m",
      "\u001b[0;31mModuleNotFoundError\u001b[0m                       Traceback (most recent call last)",
      "Cell \u001b[0;32mIn[22], line 1\u001b[0m\n\u001b[0;32m----> 1\u001b[0m \u001b[38;5;28;01mimport\u001b[39;00m \u001b[38;5;21;01mipywidgets\u001b[39;00m \u001b[38;5;28;01mas\u001b[39;00m \u001b[38;5;21;01mwidgets\u001b[39;00m\n\u001b[1;32m      2\u001b[0m \u001b[38;5;28;01mfrom\u001b[39;00m \u001b[38;5;21;01mIPython\u001b[39;00m\u001b[38;5;21;01m.\u001b[39;00m\u001b[38;5;21;01mdisplay\u001b[39;00m \u001b[38;5;28;01mimport\u001b[39;00m clear_output\n\u001b[1;32m      4\u001b[0m \u001b[38;5;66;03m#print(widgets.Dropdown.__doc__)\u001b[39;00m\n",
      "\u001b[0;31mModuleNotFoundError\u001b[0m: No module named 'ipywidgets'"
     ]
    }
   ],
   "source": [
    "import ipywidgets as widgets\n",
    "from IPython.display import clear_output\n",
    "\n",
    "#print(widgets.Dropdown.__doc__)\n",
    "\n",
    "w1=widgets.Dropdown(\n",
    "    options=[('Pure', 'rho12_pure'), ('Mixed', 'rho12_mixed')],\n",
    "    label='Pure',\n",
    "    description='PDM ansatz:',\n",
    ")\n",
    "\n",
    "\n",
    "w2=widgets.Dropdown(\n",
    "    options=[('Id', 'U12_id'), ('Singlet-triplet', 'U12_spin'), ('CNOT', 'U12_cnot'),('CZ','U12_cz'),('Bell','U12_bell')],\n",
    "    label='CNOT',\n",
    "    description='Unitary 12:',\n",
    ")\n",
    "\n",
    "\n",
    "w3 = widgets.Button(\n",
    "    description='Run',\n",
    "    disabled=False,\n",
    "    button_style='', # 'success', 'info', 'warning', 'danger' or ''\n",
    "    tooltip='Run'\n",
    ")\n",
    "\n",
    "display(w1)\n",
    "display(w2)\n",
    "display(w3)\n",
    "\n",
    "def run_on_click(self, verbose=False):\n",
    "    \n",
    "    \n",
    "    \n",
    "    #pull ansatz from widget\n",
    "    r = eval(w1.value)\n",
    "    \n",
    "    #pull unitary from widget\n",
    "    U = eval(w2.value) \n",
    "    \n",
    "    #make rho\n",
    "    rho = U @ r @ U.H\n",
    "    \n",
    "    #outputs\n",
    "    clear_output()\n",
    "    \n",
    "    display(w1)\n",
    "    display(w2)\n",
    "    display(w3)\n",
    "    print()\n",
    "    print(\"OUTPUT:\")\n",
    "    print()\n",
    "    if(verbose):\n",
    "        print(\"Selected ansatz\")\n",
    "        print(r)\n",
    "        print(\"Selected unitary\")\n",
    "        print(U)\n",
    "    \n",
    "    print(\"rhoAB\")\n",
    "    print(rho)\n",
    "    correlations_qm(rho,True)\n",
    "    print()\n",
    "              \n",
    "    \n",
    "\n",
    "w3.on_click(run_on_click)\n",
    "\n",
    "\n"
   ]
  },
  {
   "cell_type": "markdown",
   "id": "81c4e993",
   "metadata": {},
   "source": [
    "Note that the conditional entropy often becomes negative when the total state is pure. The conditional entropy is given by $S(A|B) = S(AB) - S(A)$, so when $S(AB)=0$ negative values can result. This was discussed in the chapter and discussed further in Ref. https://arxiv.org/abs/quant-ph/9512022."
   ]
  },
  {
   "cell_type": "markdown",
   "id": "408614a5",
   "metadata": {},
   "source": [
    "## Correlation widget for the lifted probability density vectors"
   ]
  },
  {
   "cell_type": "code",
   "execution_count": 40,
   "id": "7d6e034b",
   "metadata": {
    "tags": []
   },
   "outputs": [],
   "source": [
    "# example from text    \n",
    "T = np.matrix([[16/40.,3/40.],[6/40.,15/40.]])\n",
    "R = np.diagflat(T.flatten())\n",
    "\n",
    "# no blue cubes\n",
    "T2=np.matrix([[1/3.,1/3.],[0,1/3.]])\n",
    "R2 = np.diagflat(T2.flatten())\n",
    "\n",
    "# uniform\n",
    "T3=np.matrix([[1/4.,1/4.],[1/4.,1/4.]])\n",
    "R3 = np.diagflat(T3.flatten())\n",
    "\n",
    "# Half red cubes and half blue spheres \n",
    "T4=np.matrix([[1/2.,0],[0,1/2.]])\n",
    "R4 = np.diagflat(T4.flatten())\n",
    "\n",
    "# All red cubes\n",
    "T5=np.matrix([[1,0],[0,0]])\n",
    "R5 = np.diagflat(T5.flatten())\n",
    "\n",
    "# All cubes; half red and half blue\n",
    "T6=np.matrix([[1/2.,0],[1/2.,0]])\n",
    "R6 = np.diagflat(T6.flatten())\n",
    "\n",
    "# All red; half spheres, half cubes\n",
    "T7=np.matrix([[1/2.,1/2.],[0,0]])\n",
    "R7 = np.diagflat(T7.flatten())\n"
   ]
  },
  {
   "cell_type": "code",
   "execution_count": 41,
   "id": "9821b61c",
   "metadata": {},
   "outputs": [
    {
     "data": {
      "application/vnd.jupyter.widget-view+json": {
       "model_id": "7d26981bb1484b8ca80d707130d4d85c",
       "version_major": 2,
       "version_minor": 0
      },
      "text/plain": [
       "Dropdown(description='PDV:', index=2, options=(('From text', 'R'), ('No blue cubes', 'R2'), ('Uniform', 'R3'),…"
      ]
     },
     "metadata": {},
     "output_type": "display_data"
    },
    {
     "data": {
      "application/vnd.jupyter.widget-view+json": {
       "model_id": "2fd9ef6ab6d54c919f2b54583fe2e993",
       "version_major": 2,
       "version_minor": 0
      },
      "text/plain": [
       "Dropdown(description='Unitary 12:', options=(('Id', 'U12_id'), ('Singlet-triplet', 'U12_spin'), ('CNOT', 'U12_…"
      ]
     },
     "metadata": {},
     "output_type": "display_data"
    },
    {
     "data": {
      "application/vnd.jupyter.widget-view+json": {
       "model_id": "898a9a412f944f9aa125fca47e1a42e6",
       "version_major": 2,
       "version_minor": 0
      },
      "text/plain": [
       "Button(description='Run', style=ButtonStyle(), tooltip='Run')"
      ]
     },
     "metadata": {},
     "output_type": "display_data"
    }
   ],
   "source": [
    "import ipywidgets as widgets\n",
    "from IPython.display import clear_output\n",
    "\n",
    "#print(widgets.Dropdown.__doc__)\n",
    "\n",
    "w4=widgets.Dropdown(\n",
    "    options=[('From text', 'R'), ('No blue cubes', 'R2'), ('Uniform', 'R3'), ( 'Half red cubes and half blue spheres', 'R4') , ('Only red cubes', 'R5'), ('All cubes','R6'), ('All red','R7')],\n",
    "    label='Uniform',\n",
    "    description='PDV:',\n",
    ")\n",
    "\n",
    "\n",
    "w5=widgets.Dropdown(\n",
    "    options=[('Id', 'U12_id'), ('Singlet-triplet', 'U12_spin'), ('CNOT', 'U12_cnot'),('CZ','U12_cz'),('Bell','U12_bell')],\n",
    "    label='Id',\n",
    "    description='Unitary 12:',\n",
    ")\n",
    "\n",
    "\n",
    "w6 = widgets.Button(\n",
    "    description='Run',\n",
    "    disabled=False,\n",
    "    button_style='', # 'success', 'info', 'warning', 'danger' or ''\n",
    "    tooltip='Run'\n",
    ")\n",
    "\n",
    "display(w4)\n",
    "display(w5)\n",
    "display(w6)\n",
    "\n",
    "def run_on_click_6(self,verbose=True):\n",
    "    \n",
    "    \n",
    "    #pull lifted pdv from widget\n",
    "    r = eval(w4.value)\n",
    "    \n",
    "    #pull unitary from widget\n",
    "    U = eval(w5.value) \n",
    "     \n",
    "    \n",
    "\n",
    "    \n",
    "    rho = U @ r @ U.H\n",
    "    \n",
    "    #outputs\n",
    "    clear_output()\n",
    "\n",
    "    display(w4)\n",
    "    display(w5)\n",
    "    display(w6)\n",
    "    print()\n",
    "    print(\"OUTPUT:\")\n",
    "    print()\n",
    "    if(verbose):\n",
    "        print(\"Selected PDV\")\n",
    "        print(r)\n",
    "        print(\"Selected unitary\")\n",
    "        print(U)\n",
    "    \n",
    "    print(\"rhoAB\")\n",
    "    print(rho)\n",
    "    correlations_qm(rho,True)\n",
    "    print()\n",
    "    \n",
    "w6.on_click(run_on_click_6)\n",
    "\n",
    "\n"
   ]
  },
  {
   "cell_type": "markdown",
   "id": "2b6b34f9",
   "metadata": {},
   "source": [
    "Note when $U_{12}=\\mathbf{1}$, we get the standard information theoretic values as computed in the first section."
   ]
  },
  {
   "cell_type": "code",
   "execution_count": 37,
   "id": "43863b73",
   "metadata": {},
   "outputs": [],
   "source": [
    "# JDWhitfield 2024"
   ]
  }
 ],
 "metadata": {
  "kernelspec": {
   "display_name": "phys75-env",
   "language": "python",
   "name": "python3"
  },
  "language_info": {
   "codemirror_mode": {
    "name": "ipython",
    "version": 3
   },
   "file_extension": ".py",
   "mimetype": "text/x-python",
   "name": "python",
   "nbconvert_exporter": "python",
   "pygments_lexer": "ipython3",
   "version": "undefined.undefined.undefined"
  }
 },
 "nbformat": 4,
 "nbformat_minor": 5
}
